{
  "cells": [
    {
      "cell_type": "markdown",
      "source": [
        "**Ονοματεπώνυμο: Ελευθερία Αρκαδοπούλου**\n",
        "\n",
        "**ΑΜ: el19442**"
      ],
      "metadata": {
        "id": "NARYFIDCh_vk"
      },
      "id": "NARYFIDCh_vk"
    },
    {
      "cell_type": "markdown",
      "id": "1f35580e",
      "metadata": {
        "id": "1f35580e"
      },
      "source": [
        "<html><font size=6><B>3η εργαστηριακή άσκηση</B><BR>\n",
        "    <BR><B>Link prediction - Πρόβλεψη συνδέσμων</B></BR>\n",
        "    </font></html>"
      ]
    },
    {
      "cell_type": "markdown",
      "id": "b30af479",
      "metadata": {
        "id": "b30af479"
      },
      "source": [
        "<html><font size=4><B>1. Κατασκευή γράφου και προεργασία για την πρόβλεψη συνδέσμων</B></font>\n",
        "    <li><B>1(i).</B> Χρησιμοποιήστε το dataset <a href=\"http://konect.cc/networks/dbpedia-similar/\"> Similarities (DBpedia)</a>, για να κατασκευάσετε τον μη κατευθυνόμενο (undirected) γράφο $G$ <a href=\"https://dl.acm.org/doi/10.1145/2487788.2488173\">[1]</a>,<a href=\"https://link.springer.com/chapter/10.1007/978-3-540-76298-0_52\">[2]</a>. Οι κόμβοι του γράφου αναπαριστούν σελίδες της Wikipedia και οι ακμές σχέση ομοιότητας μεταξύ τους. Στην σελίδα <a href=\"http://konect.cc/networks/dbpedia-similar/\"> KONECT (DBpedia)</a> μπορείτε να βρείτε πληροφορίες για τις ιδιότητες του γράφου.</a><BR>\n",
        "        <B><U>Υπόδειξη:</U></B> Μπορείτε να ελέγξετε προγραμματιστικά αν το dataset περιέχει διπλότυπα των ακμών με την ίδια ή αντίστροφη σειρά (π.χ. ακμές (a,b) και (b,a)), και να λάβετε υπ' όψιν σας αυτήν σας την παρατήρηση, όπου τυχόν χρειαστεί, στην ερώτηση 2.<BR></html>"
      ]
    },
    {
      "cell_type": "code",
      "source": [
        "%matplotlib inline\n",
        "\n",
        "import matplotlib\n",
        "import networkx as nx\n",
        "import random\n",
        "import matplotlib.pyplot as plt\n",
        "import numpy as np\n",
        "import scipy as sp\n",
        "import scipy.sparse as sps\n",
        "import pandas as pd"
      ],
      "metadata": {
        "id": "Jjtda9uoDy2O"
      },
      "id": "Jjtda9uoDy2O",
      "execution_count": 1,
      "outputs": []
    },
    {
      "cell_type": "code",
      "source": [
        "dbpedia = nx.read_edgelist(\"out.dbpedia-similar\",create_using=nx.Graph(), comments=\"%\",nodetype=int)"
      ],
      "metadata": {
        "id": "6dfW_LIWs42N"
      },
      "id": "6dfW_LIWs42N",
      "execution_count": null,
      "outputs": []
    },
    {
      "cell_type": "code",
      "source": [
        "#check for double edges (a,b)-(b,a)\n",
        "total_edges = []\n",
        "duplicate_edges = []\n",
        "for edge in dbpedia.edges():\n",
        "  if (edge in total_edges) or (tuple(reversed(edge)) in total_edges):\n",
        "    duplicate_edges.append(edge)\n",
        "  else:\n",
        "    total_edges.append(edge)\n",
        "\n",
        "dbpedia.remove_edges_from(list(nx.selfloop_edges(dbpedia)))\n",
        "print(\"Number of edges is: \" + str(len(total_edges)) + \", and number of duplicate edges is: \" + str(len(duplicate_edges)))"
      ],
      "metadata": {
        "id": "qQKHokdoFVp_",
        "colab": {
          "base_uri": "https://localhost:8080/"
        },
        "outputId": "5ac6c5c8-f0ac-4d1f-948e-a802193db825"
      },
      "id": "qQKHokdoFVp_",
      "execution_count": 3,
      "outputs": [
        {
          "output_type": "stream",
          "name": "stdout",
          "text": [
            "Number of edges is: 565, and number of duplicate edges is: 0\n"
          ]
        }
      ]
    },
    {
      "cell_type": "markdown",
      "id": "4bd79bac",
      "metadata": {
        "id": "4bd79bac"
      },
      "source": [
        " <li><B>1(ii).</B> Εμφανίστε τον αριθμό των κόμβων, τον αριθμό των ακμών, τον μέσο βαθμό των κόμβων και τον αριθμό των συνεκτικών συνιστωσών (connected components) για τον γράφο $G$.</li><BR>"
      ]
    },
    {
      "cell_type": "code",
      "execution_count": 4,
      "id": "9277a4e2",
      "metadata": {
        "id": "9277a4e2"
      },
      "outputs": [],
      "source": [
        "initial_node_count = dbpedia.number_of_nodes()\n",
        "initial_edge_count = dbpedia.number_of_edges()\n",
        "initial_average_degree = np.mean([x[1] for x in dbpedia.degree()])\n",
        "initial_connected_components = nx.number_connected_components(dbpedia)"
      ]
    },
    {
      "cell_type": "code",
      "source": [
        "print(\"Initial node count: \" + str(initial_node_count))\n",
        "print(\"Initial edge count: \" + str(initial_edge_count))\n",
        "print(\"Initial average degree : \" + str(initial_average_degree))\n",
        "print(\"Initial connected components: \" + str(initial_connected_components))"
      ],
      "metadata": {
        "colab": {
          "base_uri": "https://localhost:8080/"
        },
        "id": "4Q7bqVQ9E3cW",
        "outputId": "808c3d0f-2d9f-4aa6-ec9b-2761decc93f2"
      },
      "id": "4Q7bqVQ9E3cW",
      "execution_count": 5,
      "outputs": [
        {
          "output_type": "stream",
          "name": "stdout",
          "text": [
            "Initial node count: 430\n",
            "Initial edge count: 564\n",
            "Initial average degree : 2.6232558139534885\n",
            "Initial connected components: 95\n"
          ]
        }
      ]
    },
    {
      "cell_type": "markdown",
      "id": "bf03f6b9",
      "metadata": {
        "id": "bf03f6b9"
      },
      "source": [
        "<li><B>1(iii). </B>Υπολογίστε το σύνολο των ασύνδετων ζευγών κόμβων (unconnected pairs) στον γράφο χρησιμοποιώντας τον πίνακα γειτνίασης (adjacency matrix). Δώστε επίσης τον αριθμό τους. Λάβετε υπ' όψιν σας ότι ο γράφος είναι μη κατευθυνόμενος και δεν χρειάζεται να διατρέξετε ολόκληρο τον πίνακα γειτνίασης.</li><BR>"
      ]
    },
    {
      "cell_type": "code",
      "source": [
        "adj_matrix = nx.adjacency_matrix(dbpedia).toarray()\n",
        "unconnected = 0\n",
        "unconnected_pairs = [] #list of tuples of ints\n",
        "for i in range(len(adj_matrix)):\n",
        "    for j in range(i + 1, len(adj_matrix[i])): #no need to iterate through the entire adj matrix, undirected graph\n",
        "        if adj_matrix[i, j] == 0:\n",
        "            unconnected += 1\n",
        "            unconnected_pairs.append((i,j))\n",
        "print(\"Number of unconnected pairs is: \" + str(unconnected))"
      ],
      "metadata": {
        "colab": {
          "base_uri": "https://localhost:8080/"
        },
        "id": "1IOLjh7CL1-j",
        "outputId": "23b69699-4f28-474a-9452-5a7fdeb41b99"
      },
      "id": "1IOLjh7CL1-j",
      "execution_count": 6,
      "outputs": [
        {
          "output_type": "stream",
          "name": "stdout",
          "text": [
            "Number of unconnected pairs is: 91671\n"
          ]
        }
      ]
    },
    {
      "cell_type": "markdown",
      "id": "154c2a8d",
      "metadata": {
        "id": "154c2a8d"
      },
      "source": [
        "<li><B>1(iv).</B> Υπολογίστε το σύνολο των ακμών (removable edges) που μπορούν να αφαιρεθούν από τον γράφο χωρίς να υπάρχει κατάτμηση (splitting) του γράφου (δηλ. ο αριθμός των συνεκτικών συνιστωσών θα πρέπει να παραμένει αμετάβλητος). Υπόδειξη: Ελέγχετε επίσης ότι με αφαίρεση ακμής δεν μειώνεται ο αριθμός των κόμβων (εφόσον δεν υπάρχει ξεχωριστό αρχείο μόνο με κόμβους στο dataset). Δώστε επίσης τον αριθμό των ακμών (removable edges) που μπορούν να αφαιρεθούν υπό αυτές τις προϋποθέσεις.</li><BR>"
      ]
    },
    {
      "cell_type": "code",
      "execution_count": 7,
      "id": "b39c2241",
      "metadata": {
        "id": "b39c2241",
        "colab": {
          "base_uri": "https://localhost:8080/"
        },
        "outputId": "b4d9b7c3-d47f-4c13-865e-f216273a7638"
      },
      "outputs": [
        {
          "output_type": "stream",
          "name": "stdout",
          "text": [
            "Total of removable edges is: 229\n"
          ]
        }
      ],
      "source": [
        "# removable edges: check splitting and number of nodes\n",
        "removable_edges = [] #list of tuples of ints\n",
        "temp = dbpedia.copy() #create copy\n",
        "for edge in dbpedia.edges():\n",
        "  temp.remove_edge(*edge) #try removing and check\n",
        "  if (nx.number_connected_components(temp) == initial_connected_components) and (temp.number_of_nodes() == initial_node_count):\n",
        "    removable_edges.append(edge)\n",
        "  else: #if not removable, add back\n",
        "    temp.add_edge(*edge)\n",
        "#print(removable_edges)\n",
        "print(\"Total of removable edges is: \" +str(len(removable_edges)))"
      ]
    },
    {
      "cell_type": "markdown",
      "id": "eb03d745",
      "metadata": {
        "id": "eb03d745"
      },
      "source": [
        "<li><B>1(vα).</B> Κατασκευάστε dataframe που συνενώνει τις απαντήσεις των ερωτημάτων 1(iii) και 1(iv) (unconnected+removables). Χρησιμοποιήστε την μεταβλητή $link$ που θα παίρνει τιμή 1 ή 0 ανάλογα με την ύπαρξη συνδέσμου ή μη. To dataframe αυτό συγκεντρώνει τα θετικά και αρνητικά δείγματα για την πρόβλεψη των μελλοντικών συνδέσεων (link: target variable). <BR>\n",
        "    <li><B>1(vβ).</B> Κατασκευάστε τον γράφο $G'$ που προκύπτει από την αφαίρεση από τον γράφο $G$ των ακμών του ερωτήματος 1(iv). <BR>\n",
        "    <li><B>1(vγ).</B> Εμφανίστε τον αριθμό των κόμβων, τον αριθμό των ακμών, τον μέσο βαθμό των κόμβων και τον αριθμό των συνεκτικών συνιστωσών (connected components) για τον γράφο $G'$.</li><BR>"
      ]
    },
    {
      "cell_type": "code",
      "execution_count": 8,
      "id": "cb033fc0",
      "metadata": {
        "id": "cb033fc0",
        "colab": {
          "base_uri": "https://localhost:8080/",
          "height": 423
        },
        "outputId": "016371e2-56b2-4cc8-d168-01c259c8ca68"
      },
      "outputs": [
        {
          "output_type": "display_data",
          "data": {
            "text/plain": [
              "             Edge  Link\n",
              "0          (1, 2)     1\n",
              "1          (1, 3)     1\n",
              "2          (1, 4)     1\n",
              "3          (3, 4)     1\n",
              "4          (3, 5)     1\n",
              "...           ...   ...\n",
              "91666  (425, 429)     0\n",
              "91667  (426, 427)     0\n",
              "91668  (426, 428)     0\n",
              "91669  (426, 429)     0\n",
              "91670  (428, 429)     0\n",
              "\n",
              "[91900 rows x 2 columns]"
            ],
            "text/html": [
              "\n",
              "  <div id=\"df-310827c3-0a8d-48bc-a682-a92af135f44c\" class=\"colab-df-container\">\n",
              "    <div>\n",
              "<style scoped>\n",
              "    .dataframe tbody tr th:only-of-type {\n",
              "        vertical-align: middle;\n",
              "    }\n",
              "\n",
              "    .dataframe tbody tr th {\n",
              "        vertical-align: top;\n",
              "    }\n",
              "\n",
              "    .dataframe thead th {\n",
              "        text-align: right;\n",
              "    }\n",
              "</style>\n",
              "<table border=\"1\" class=\"dataframe\">\n",
              "  <thead>\n",
              "    <tr style=\"text-align: right;\">\n",
              "      <th></th>\n",
              "      <th>Edge</th>\n",
              "      <th>Link</th>\n",
              "    </tr>\n",
              "  </thead>\n",
              "  <tbody>\n",
              "    <tr>\n",
              "      <th>0</th>\n",
              "      <td>(1, 2)</td>\n",
              "      <td>1</td>\n",
              "    </tr>\n",
              "    <tr>\n",
              "      <th>1</th>\n",
              "      <td>(1, 3)</td>\n",
              "      <td>1</td>\n",
              "    </tr>\n",
              "    <tr>\n",
              "      <th>2</th>\n",
              "      <td>(1, 4)</td>\n",
              "      <td>1</td>\n",
              "    </tr>\n",
              "    <tr>\n",
              "      <th>3</th>\n",
              "      <td>(3, 4)</td>\n",
              "      <td>1</td>\n",
              "    </tr>\n",
              "    <tr>\n",
              "      <th>4</th>\n",
              "      <td>(3, 5)</td>\n",
              "      <td>1</td>\n",
              "    </tr>\n",
              "    <tr>\n",
              "      <th>...</th>\n",
              "      <td>...</td>\n",
              "      <td>...</td>\n",
              "    </tr>\n",
              "    <tr>\n",
              "      <th>91666</th>\n",
              "      <td>(425, 429)</td>\n",
              "      <td>0</td>\n",
              "    </tr>\n",
              "    <tr>\n",
              "      <th>91667</th>\n",
              "      <td>(426, 427)</td>\n",
              "      <td>0</td>\n",
              "    </tr>\n",
              "    <tr>\n",
              "      <th>91668</th>\n",
              "      <td>(426, 428)</td>\n",
              "      <td>0</td>\n",
              "    </tr>\n",
              "    <tr>\n",
              "      <th>91669</th>\n",
              "      <td>(426, 429)</td>\n",
              "      <td>0</td>\n",
              "    </tr>\n",
              "    <tr>\n",
              "      <th>91670</th>\n",
              "      <td>(428, 429)</td>\n",
              "      <td>0</td>\n",
              "    </tr>\n",
              "  </tbody>\n",
              "</table>\n",
              "<p>91900 rows × 2 columns</p>\n",
              "</div>\n",
              "    <div class=\"colab-df-buttons\">\n",
              "\n",
              "  <div class=\"colab-df-container\">\n",
              "    <button class=\"colab-df-convert\" onclick=\"convertToInteractive('df-310827c3-0a8d-48bc-a682-a92af135f44c')\"\n",
              "            title=\"Convert this dataframe to an interactive table.\"\n",
              "            style=\"display:none;\">\n",
              "\n",
              "  <svg xmlns=\"http://www.w3.org/2000/svg\" height=\"24px\" viewBox=\"0 -960 960 960\">\n",
              "    <path d=\"M120-120v-720h720v720H120Zm60-500h600v-160H180v160Zm220 220h160v-160H400v160Zm0 220h160v-160H400v160ZM180-400h160v-160H180v160Zm440 0h160v-160H620v160ZM180-180h160v-160H180v160Zm440 0h160v-160H620v160Z\"/>\n",
              "  </svg>\n",
              "    </button>\n",
              "\n",
              "  <style>\n",
              "    .colab-df-container {\n",
              "      display:flex;\n",
              "      gap: 12px;\n",
              "    }\n",
              "\n",
              "    .colab-df-convert {\n",
              "      background-color: #E8F0FE;\n",
              "      border: none;\n",
              "      border-radius: 50%;\n",
              "      cursor: pointer;\n",
              "      display: none;\n",
              "      fill: #1967D2;\n",
              "      height: 32px;\n",
              "      padding: 0 0 0 0;\n",
              "      width: 32px;\n",
              "    }\n",
              "\n",
              "    .colab-df-convert:hover {\n",
              "      background-color: #E2EBFA;\n",
              "      box-shadow: 0px 1px 2px rgba(60, 64, 67, 0.3), 0px 1px 3px 1px rgba(60, 64, 67, 0.15);\n",
              "      fill: #174EA6;\n",
              "    }\n",
              "\n",
              "    .colab-df-buttons div {\n",
              "      margin-bottom: 4px;\n",
              "    }\n",
              "\n",
              "    [theme=dark] .colab-df-convert {\n",
              "      background-color: #3B4455;\n",
              "      fill: #D2E3FC;\n",
              "    }\n",
              "\n",
              "    [theme=dark] .colab-df-convert:hover {\n",
              "      background-color: #434B5C;\n",
              "      box-shadow: 0px 1px 3px 1px rgba(0, 0, 0, 0.15);\n",
              "      filter: drop-shadow(0px 1px 2px rgba(0, 0, 0, 0.3));\n",
              "      fill: #FFFFFF;\n",
              "    }\n",
              "  </style>\n",
              "\n",
              "    <script>\n",
              "      const buttonEl =\n",
              "        document.querySelector('#df-310827c3-0a8d-48bc-a682-a92af135f44c button.colab-df-convert');\n",
              "      buttonEl.style.display =\n",
              "        google.colab.kernel.accessAllowed ? 'block' : 'none';\n",
              "\n",
              "      async function convertToInteractive(key) {\n",
              "        const element = document.querySelector('#df-310827c3-0a8d-48bc-a682-a92af135f44c');\n",
              "        const dataTable =\n",
              "          await google.colab.kernel.invokeFunction('convertToInteractive',\n",
              "                                                    [key], {});\n",
              "        if (!dataTable) return;\n",
              "\n",
              "        const docLinkHtml = 'Like what you see? Visit the ' +\n",
              "          '<a target=\"_blank\" href=https://colab.research.google.com/notebooks/data_table.ipynb>data table notebook</a>'\n",
              "          + ' to learn more about interactive tables.';\n",
              "        element.innerHTML = '';\n",
              "        dataTable['output_type'] = 'display_data';\n",
              "        await google.colab.output.renderOutput(dataTable, element);\n",
              "        const docLink = document.createElement('div');\n",
              "        docLink.innerHTML = docLinkHtml;\n",
              "        element.appendChild(docLink);\n",
              "      }\n",
              "    </script>\n",
              "  </div>\n",
              "\n",
              "\n",
              "<div id=\"df-a0be3b43-e9d3-4f79-8948-37ba9331b003\">\n",
              "  <button class=\"colab-df-quickchart\" onclick=\"quickchart('df-a0be3b43-e9d3-4f79-8948-37ba9331b003')\"\n",
              "            title=\"Suggest charts\"\n",
              "            style=\"display:none;\">\n",
              "\n",
              "<svg xmlns=\"http://www.w3.org/2000/svg\" height=\"24px\"viewBox=\"0 0 24 24\"\n",
              "     width=\"24px\">\n",
              "    <g>\n",
              "        <path d=\"M19 3H5c-1.1 0-2 .9-2 2v14c0 1.1.9 2 2 2h14c1.1 0 2-.9 2-2V5c0-1.1-.9-2-2-2zM9 17H7v-7h2v7zm4 0h-2V7h2v10zm4 0h-2v-4h2v4z\"/>\n",
              "    </g>\n",
              "</svg>\n",
              "  </button>\n",
              "\n",
              "<style>\n",
              "  .colab-df-quickchart {\n",
              "      --bg-color: #E8F0FE;\n",
              "      --fill-color: #1967D2;\n",
              "      --hover-bg-color: #E2EBFA;\n",
              "      --hover-fill-color: #174EA6;\n",
              "      --disabled-fill-color: #AAA;\n",
              "      --disabled-bg-color: #DDD;\n",
              "  }\n",
              "\n",
              "  [theme=dark] .colab-df-quickchart {\n",
              "      --bg-color: #3B4455;\n",
              "      --fill-color: #D2E3FC;\n",
              "      --hover-bg-color: #434B5C;\n",
              "      --hover-fill-color: #FFFFFF;\n",
              "      --disabled-bg-color: #3B4455;\n",
              "      --disabled-fill-color: #666;\n",
              "  }\n",
              "\n",
              "  .colab-df-quickchart {\n",
              "    background-color: var(--bg-color);\n",
              "    border: none;\n",
              "    border-radius: 50%;\n",
              "    cursor: pointer;\n",
              "    display: none;\n",
              "    fill: var(--fill-color);\n",
              "    height: 32px;\n",
              "    padding: 0;\n",
              "    width: 32px;\n",
              "  }\n",
              "\n",
              "  .colab-df-quickchart:hover {\n",
              "    background-color: var(--hover-bg-color);\n",
              "    box-shadow: 0 1px 2px rgba(60, 64, 67, 0.3), 0 1px 3px 1px rgba(60, 64, 67, 0.15);\n",
              "    fill: var(--button-hover-fill-color);\n",
              "  }\n",
              "\n",
              "  .colab-df-quickchart-complete:disabled,\n",
              "  .colab-df-quickchart-complete:disabled:hover {\n",
              "    background-color: var(--disabled-bg-color);\n",
              "    fill: var(--disabled-fill-color);\n",
              "    box-shadow: none;\n",
              "  }\n",
              "\n",
              "  .colab-df-spinner {\n",
              "    border: 2px solid var(--fill-color);\n",
              "    border-color: transparent;\n",
              "    border-bottom-color: var(--fill-color);\n",
              "    animation:\n",
              "      spin 1s steps(1) infinite;\n",
              "  }\n",
              "\n",
              "  @keyframes spin {\n",
              "    0% {\n",
              "      border-color: transparent;\n",
              "      border-bottom-color: var(--fill-color);\n",
              "      border-left-color: var(--fill-color);\n",
              "    }\n",
              "    20% {\n",
              "      border-color: transparent;\n",
              "      border-left-color: var(--fill-color);\n",
              "      border-top-color: var(--fill-color);\n",
              "    }\n",
              "    30% {\n",
              "      border-color: transparent;\n",
              "      border-left-color: var(--fill-color);\n",
              "      border-top-color: var(--fill-color);\n",
              "      border-right-color: var(--fill-color);\n",
              "    }\n",
              "    40% {\n",
              "      border-color: transparent;\n",
              "      border-right-color: var(--fill-color);\n",
              "      border-top-color: var(--fill-color);\n",
              "    }\n",
              "    60% {\n",
              "      border-color: transparent;\n",
              "      border-right-color: var(--fill-color);\n",
              "    }\n",
              "    80% {\n",
              "      border-color: transparent;\n",
              "      border-right-color: var(--fill-color);\n",
              "      border-bottom-color: var(--fill-color);\n",
              "    }\n",
              "    90% {\n",
              "      border-color: transparent;\n",
              "      border-bottom-color: var(--fill-color);\n",
              "    }\n",
              "  }\n",
              "</style>\n",
              "\n",
              "  <script>\n",
              "    async function quickchart(key) {\n",
              "      const quickchartButtonEl =\n",
              "        document.querySelector('#' + key + ' button');\n",
              "      quickchartButtonEl.disabled = true;  // To prevent multiple clicks.\n",
              "      quickchartButtonEl.classList.add('colab-df-spinner');\n",
              "      try {\n",
              "        const charts = await google.colab.kernel.invokeFunction(\n",
              "            'suggestCharts', [key], {});\n",
              "      } catch (error) {\n",
              "        console.error('Error during call to suggestCharts:', error);\n",
              "      }\n",
              "      quickchartButtonEl.classList.remove('colab-df-spinner');\n",
              "      quickchartButtonEl.classList.add('colab-df-quickchart-complete');\n",
              "    }\n",
              "    (() => {\n",
              "      let quickchartButtonEl =\n",
              "        document.querySelector('#df-a0be3b43-e9d3-4f79-8948-37ba9331b003 button');\n",
              "      quickchartButtonEl.style.display =\n",
              "        google.colab.kernel.accessAllowed ? 'block' : 'none';\n",
              "    })();\n",
              "  </script>\n",
              "</div>\n",
              "    </div>\n",
              "  </div>\n"
            ]
          },
          "metadata": {}
        }
      ],
      "source": [
        "total_set = unconnected_pairs + removable_edges\n",
        "total_set.sort()\n",
        "links = []\n",
        "\n",
        "#dataframe of removable edges (they will function as positive samples)\n",
        "df1 = pd.DataFrame({'Edge': removable_edges, 'Link': [1] * len(removable_edges)})\n",
        "\n",
        "#dataframe of unconnected node pairs (they will function as negative samples)\n",
        "df2 = pd.DataFrame({'Edge': unconnected_pairs, 'Link': [0] * len(unconnected_pairs)})\n",
        "\n",
        "#merge in one dataframe\n",
        "df3 = pd.concat([df1, df2])\n",
        "display(df3)\n",
        "\n",
        "#build graph G'=G_reduced\n",
        "G_reduced = dbpedia.copy()\n",
        "G_reduced.remove_edges_from(removable_edges)"
      ]
    },
    {
      "cell_type": "code",
      "source": [
        "g_node_count = G_reduced.number_of_nodes()\n",
        "g_edge_count = G_reduced.number_of_edges()\n",
        "g_average_degree = np.mean([x[1] for x in G_reduced.degree()])\n",
        "g_connected_components = nx.number_connected_components(G_reduced)\n",
        "print(\"Node count for reduced graph: \" + str(g_node_count))\n",
        "print(\"Edge count for reduced graph: \" + str(g_edge_count))\n",
        "print(\"Average degree for reduced graph: \" + str(g_average_degree))\n",
        "print(\"Connected components for reduced graph: \" + str(g_connected_components))"
      ],
      "metadata": {
        "colab": {
          "base_uri": "https://localhost:8080/"
        },
        "id": "q2LSMP3XWgXG",
        "outputId": "03090f22-1eb7-4426-c78b-c3a5f51adc3a"
      },
      "id": "q2LSMP3XWgXG",
      "execution_count": 9,
      "outputs": [
        {
          "output_type": "stream",
          "name": "stdout",
          "text": [
            "Node count for reduced graph: 430\n",
            "Edge count for reduced graph: 335\n",
            "Average degree for reduced graph: 1.558139534883721\n",
            "Connected components for reduced graph: 95\n"
          ]
        }
      ]
    },
    {
      "cell_type": "markdown",
      "id": "184eae57",
      "metadata": {
        "id": "184eae57"
      },
      "source": [
        "<html><font size=4><B>2. Εισαγωγή σε similarity-based μετρικές για Link prediction</B></font><BR><BR>\n",
        "     <li> Η μετρική <B>Jaccard Coefficient (JC)</B> των κόμβων ${u}$ και ${v}$ ορίζεται ως $\\frac{|\\Gamma(u) \\cap \\Gamma(v)|}{|\\Gamma(u) \\cup \\Gamma(v)|}$, όπου ${\\Gamma(u)}$ είναι το σύνολο των γειτονικών κόμβων του κόμβου ${u}$.  <B></B>\n",
        "        <li> Η μετρική <B>Preferential Αttachment (PA)</B> των κόμβων $u$ και $v$ ορίζεται ως $|\\Gamma(u)| |\\Gamma(v)|$, όπου $\\Gamma(u)$ είναι το σύνολο των γειτονικών κόμβων του $u$.</li>\n",
        "        <li> Η μετρική <B>Resource Allocation (RA)</B> των κόμβων $u$ και $v$ ορίζεται ως $\\sum_{w \\in \\Gamma(u) \\cap \\Gamma(v)} \\frac{1}{|\\Gamma(w)|}$, όπου $\\Gamma(u)$ είναι το σύνολο των γειτονικών κόμβων του $u$.</li><BR><BR>\n",
        "    <li><B>2(i).</B> Για τον γράφο $G'$, που κατασκευάσατε στο ερώτημα 1(vβ), υπολογίστε την μετρική <B>Jaccard Coefficient (JC)</B>.  <u><a href=\"https://networkx.org/documentation/stable/reference/algorithms/link_prediction.html?highlight=link%20prediction\">Χρησιμοποιήστε την υλοποιημένη συνάρτηση του λογισμικού NetworkX.</a></u> <BR><BR>\n",
        "    <li><B>2(ii). </B>Δώστε τις $k$ ακμές με την υψηλότερη τιμή μετρικής $JC$, όπου $k$ ο $Α.Μ.$ σας $mod$ $10$. Για $Α.Μ.$ λήγοντα σε $0$ δώστε τις $10$ ακμές με την υψηλότερη τιμή μετρικής.\n",
        "        (Για την σύγκριση μεταξύ διαφορετικών μετρικών προτιμάται η εύρεση των $k$ επικρατέστερων συνδέσμων, αφού οι μετρικές επιστρέφουν διαφορετικό εύρος τιμών.)</li><BR>\n",
        "    <li><B>2(iii). </B>Προσδιορίστε για την μέτρηση της απόδοσης της μετρικής $JC$ τα μεγέθη $Precision$, $Recall$ και $Accuracy$ και αναπαραστήστε τα γραφικά για τιμές κατωφλίου: $0.1$, $0.15$, $0.25$, $0.5$, $1.0$.  <BR><BR>\n",
        "    $Precision=\\frac{TP}{TP+FP}$, όπου $TP$: αληθώς θετικά αποτελέσματα, $FP$: ψευδώς θετικά αποτελέσματα <BR>\n",
        "    $Recall=\\frac{TP}{TP+FN}$, όπου $TP$: αληθώς θετικά αποτελέσματα, $FN$: ψευδώς αρνητικά αποτελέσματα</li>\n",
        "    $Accuracy=\\frac{TP+TN}{TP+FN+TN+FP}$, όπου $TP$: αληθώς θετικά αποτελέσματα, $TN$: αληθώς αρνητικά αποτελέσματα, $FN$: ψευδώς αρνητικά αποτελέσματα, $FP$: ψευδώς θετικά αποτελέσματα</li><BR><BR>\n",
        "        <B><U>Υπόδειξη:</U></B>\n",
        "        Θετικό θεωρήστε ένα αποτέλεσμα, αν η μετρική $JC$ υπερβαίνει μια τιμή κατωφλίου (>=). Αρνητικό θεωρήστε το στην αντίθετη περίπτωση.\n",
        "        <li>Αληθώς θετικά είναι τα αποτελέσματα που βγήκαν θετικά (η τιμή της $JC$ υπερβαίνει την τιμή κατωφλίου) και πράγματι θα υπάρξουν οι συνδέσεις που περιγράφουν (ερ. 1(iv)).</li>\n",
        "        <li>Αληθώς αρνητικά είναι τα αποτελέσματα που βγήκαν αρνητικά και πράγματι δεν θα υπάρξουν οι συνδέσεις που περιγράφουν (ερ. 1(iii)).</li>\n",
        "        <li>Ψευδώς θετικά είναι τα αποτελέσματα που βγήκαν θετικά, ενώ δεν θα υπάρξουν οι συνδέσεις που περιγράφουν.</li>\n",
        "        <li>Ψευδώς αρνητικά είναι τα αποτελέσματα που βγήκαν αρνητικά, ενώ θα υπάρξουν οι συνδέσεις που περιγράφουν.</li>\n",
        "        <li>Το άθροισμα $TN+FP$ πρέπει κάθε φορά να σας δίνει όλες τις ασύνδετες ακμές του γράφου $G$.</li>   \n",
        "<li>Από το ερώτημα 1(iii) οι ακμές που υπολογίσατε είναι αυτές για τις οποίες δεν θα υπάρξουν συνδέσεις.</li> <li>Από το ερώτημα 1(iv) οι ακμές που υπολογίσατε είναι αυτές για τις οποίες θα υπάρξουν συνδέσεις.</li><BR></html>"
      ]
    },
    {
      "cell_type": "code",
      "source": [
        "#2(i)\n",
        "jaccard_list = []\n",
        "jaccard_coefficient = nx.jaccard_coefficient(G_reduced)\n",
        "for u, v, p in jaccard_coefficient:\n",
        "  jaccard_list.append((u,v,p))"
      ],
      "metadata": {
        "id": "wizQOdTy8JSe"
      },
      "id": "wizQOdTy8JSe",
      "execution_count": 10,
      "outputs": []
    },
    {
      "cell_type": "code",
      "source": [
        "#2(ii)\n",
        "# k = Α.Μ. mod 10, A.M. is 03119442\n",
        "k=2\n",
        "sorted_jaccard = sorted(jaccard_list, key=lambda x: x[2], reverse=True) #list of triples\n",
        "print(\"The two edges with the highest jaccard coefficient are: \")\n",
        "for triple in (sorted_jaccard)[:k]:\n",
        "  string = (triple[0], triple[1])\n",
        "  print(string)"
      ],
      "metadata": {
        "colab": {
          "base_uri": "https://localhost:8080/"
        },
        "id": "6Uml4uu79umj",
        "outputId": "85b7db29-61da-4bea-fbfc-10fb1fa445ab"
      },
      "id": "6Uml4uu79umj",
      "execution_count": 11,
      "outputs": [
        {
          "output_type": "stream",
          "name": "stdout",
          "text": [
            "The two edges with the highest jaccard coefficient are: \n",
            "(4, 46)\n",
            "(4, 47)\n"
          ]
        }
      ]
    },
    {
      "cell_type": "code",
      "execution_count": 12,
      "id": "d8b0d5fd",
      "metadata": {
        "id": "d8b0d5fd"
      },
      "outputs": [],
      "source": [
        "#2(iii)\n",
        "def JCfunction(threshold_jc):\n",
        "  TP = []\n",
        "  FP = []\n",
        "  TN = []\n",
        "  FN = []\n",
        "  for triple in jaccard_list: #true if in removable edges, false if in unconnected pairs\n",
        "    if (triple[2] >= threshold_jc) and ((triple[0],triple[1]) in removable_edges):\n",
        "      TP.append(triple)\n",
        "    elif (triple[2] >= threshold_jc) and ((triple[0],triple[1]) in unconnected_pairs):\n",
        "      FP.append(triple)\n",
        "    elif (triple[2] < threshold_jc) and ((triple[0],triple[1]) in removable_edges):\n",
        "      FN.append(triple)\n",
        "    elif (triple[2] < threshold_jc) and ((triple[0],triple[1]) in unconnected_pairs):\n",
        "      TN.append(triple)\n",
        "  #check\n",
        "  if len(TN)+len(FP) != 90800:\n",
        "    print(\"Problem detected\")\n",
        "\n",
        "  precision_jc = len(TP) / (len(TP) + len(FP))\n",
        "  recall_jc = len(TP) / (len(TP) + len(FN))\n",
        "  accuracy_jc = (len(TP) + len(TN)) / (len(TP) + len(FP) + len(FN) + len(TN))\n",
        "\n",
        "  return recall_jc, precision_jc, accuracy_jc"
      ]
    },
    {
      "cell_type": "code",
      "source": [
        "thresholds = [0.1, 0.15, 0.25, 0.5, 1.0]"
      ],
      "metadata": {
        "id": "EFtvpPjSPwRs"
      },
      "id": "EFtvpPjSPwRs",
      "execution_count": 13,
      "outputs": []
    },
    {
      "cell_type": "code",
      "source": [
        "precisions = []\n",
        "recalls = []\n",
        "accuracies = []\n",
        "for thresh in thresholds:\n",
        "  r, p, a = JCfunction(thresh)\n",
        "  precisions.append(p)\n",
        "  recalls.append(r)\n",
        "  accuracies.append(a)"
      ],
      "metadata": {
        "id": "OnBQ4NgWW7T6"
      },
      "id": "OnBQ4NgWW7T6",
      "execution_count": 14,
      "outputs": []
    },
    {
      "cell_type": "code",
      "source": [
        "plt.figure(figsize=(15, 4))\n",
        "thresholds_x = ['0.1', '0.15', '0.25', '0.5', '1.0']\n",
        "\n",
        "plt.subplot(131)\n",
        "plt.title(\"Precision\")\n",
        "plt.bar(thresholds_x,precisions, color='#D2A1EF')\n",
        "\n",
        "plt.subplot(132)\n",
        "plt.title(\"Recall\")\n",
        "plt.bar(thresholds_x,recalls, color='#D2A1EF')\n",
        "\n",
        "plt.subplot(133)\n",
        "plt.title(\"Accuracy\")\n",
        "plt.bar(thresholds_x,accuracies, color='#D2A1EF')\n",
        "plt.ylim(0.98, 1)\n",
        "\n",
        "plt.show()"
      ],
      "metadata": {
        "colab": {
          "base_uri": "https://localhost:8080/",
          "height": 391
        },
        "id": "KMD51JPdgTuZ",
        "outputId": "a6a2abe5-7b38-4d95-c2ad-8257adda542c"
      },
      "id": "KMD51JPdgTuZ",
      "execution_count": 15,
      "outputs": [
        {
          "output_type": "display_data",
          "data": {
            "text/plain": [
              "<Figure size 1500x400 with 3 Axes>"
            ],
            "image/png": "[encoded data removed]"
          },
          "metadata": {}
        }
      ]
    },
    {
      "cell_type": "markdown",
      "id": "d432396f",
      "metadata": {
        "id": "d432396f"
      },
      "source": [
        "<html><font size=4><B>3. Πρόβλεψη συνδέσμων βάσει similarity-based μετρικών</B></font>    \n",
        "        <li><B>3(i).</B> Προτείνετε μια τουλάχιστον μέθοδο, για να εξερευνήσουμε και να εκφράσουμε μέσα από τα πακέτα NumPy ή SciPy ή Pandas την συσχέτιση (correlation) μεταξύ των τιμών των μετρικών <B>Jaccard Coefficient</B>, <B>Preferential Attachment</B>, <B>Resource Allocation</B> για τον μειωμένο γράφο $G'$. Σημ.: Δεν χρειάζεται κάποια υλοποίηση, μόνο αναφορά της μεθόδου συσχέτισης και επεξήγηση της επιλογής σας.\n",
        "     <li><B>3(ii).</B> Εργαστείτε πάνω σε <B><U>αντίγραφο</U></B> του dataframe που κατασκευάσατε στο ερώτημα 1(vα) (unconnected+removables). Δημιουργήστε στήλη (column) με τις ακμές του γράφου και θέστε την ως index του dataframe. Στο dataframe θα προσθέσετε ως στήλες τις τιμές των μετρικών (<B>Jaccard Coefficient</B>, <B>Preferential Attachment</B>, <B>Resource Allocation</B>) για τον μειωμένο γράφο $G'$. Οι τιμές των μετρικών μπορούν να υπολογιστούν με τις συναρτήσεις του πακέτου NetworkX.</li>   </font></html>\n",
        "    \n",
        "    |       | link  |Jacc.Coeff.|Pr.Attachment| Resource Allocation|\n",
        "    |-------|-------|-----------|-------------|--------------------|\n",
        "    |(1, 6) |  0    |  0.333333 |     32      |    0.700000        |\n",
        "    |(1, 46)|  0    |  0.200000 |      8      |    0.166667        |"
      ]
    },
    {
      "cell_type": "markdown",
      "source": [
        "3(i)\n",
        "\n",
        "Για να εξερευνήσουμε και να εκφράσουμε μέσα από τα πακέτα αυτά τη συσχέτιση μεταξύ των τιμών των μετρικών Jaccard Coefficient, Preferential Attachment, Resource Allocation για τον γράφο G', μπορούμε να κάνουμε χρήση της .corr() μεθόδου πάνω στις συγκεκριμένες columns του dataframe df. Από τον πίνακα επιστροφής του μεθόδου θα μπορούσαμε να δούμε τη συσχέτιση μεταξύ των τιμών των μετρικών για όλο το dataframe. Από τις πιθανές μεθόδους υπολογισμού συσχέτισης της συνάρτησης, καθώς δεν γνωρίζουμε αν τα δεδομένα μας έχουν γραμμική συσχέτιση μεταξύ τους, θα ήταν καλύτερο να χρησιμοποιήσουμε τη Spearman ή την Kendall, έναντι της Pearson που ενδείκνυται για linear σχέσεις."
      ],
      "metadata": {
        "id": "x06D2ejYwlHU"
      },
      "id": "x06D2ejYwlHU"
    },
    {
      "cell_type": "code",
      "execution_count": 16,
      "id": "7c40c8d6",
      "metadata": {
        "id": "7c40c8d6"
      },
      "outputs": [],
      "source": [
        "#3(ii)\n",
        "#replicate of the dataframe \"unconnected+removables\"---dataframe will be used again in (4)\n",
        "df = df3.copy()"
      ]
    },
    {
      "cell_type": "code",
      "execution_count": 17,
      "id": "8c65a3e6",
      "metadata": {
        "id": "8c65a3e6",
        "colab": {
          "base_uri": "https://localhost:8080/",
          "height": 455
        },
        "outputId": "49a89630-a3dd-4af6-c2e3-c85ca0a26652"
      },
      "outputs": [
        {
          "output_type": "execute_result",
          "data": {
            "text/plain": [
              "            Link  Jaccard Coefficient  Preferential Attachment  \\\n",
              "Edge                                                             \n",
              "(1, 2)         1                  0.0                        1   \n",
              "(1, 3)         1                  0.0                        2   \n",
              "(1, 4)         1                  0.0                        1   \n",
              "(3, 4)         1                  0.0                        7   \n",
              "(3, 5)         1                  0.0                        1   \n",
              "...          ...                  ...                      ...   \n",
              "(425, 429)     0                  0.0                        1   \n",
              "(426, 427)     0                  0.0                        2   \n",
              "(426, 428)     0                  0.0                        1   \n",
              "(426, 429)     0                  0.0                        1   \n",
              "(428, 429)     0                  1.0                        1   \n",
              "\n",
              "            Resource Allocation  \n",
              "Edge                             \n",
              "(1, 2)                      0.0  \n",
              "(1, 3)                      0.0  \n",
              "(1, 4)                      0.0  \n",
              "(3, 4)                      0.0  \n",
              "(3, 5)                      0.0  \n",
              "...                         ...  \n",
              "(425, 429)                  0.0  \n",
              "(426, 427)                  0.0  \n",
              "(426, 428)                  0.0  \n",
              "(426, 429)                  0.0  \n",
              "(428, 429)                  0.5  \n",
              "\n",
              "[91900 rows x 4 columns]"
            ],
            "text/html": [
              "\n",
              "  <div id=\"df-211af425-3f39-49c3-9f80-24a2fe772ec8\" class=\"colab-df-container\">\n",
              "    <div>\n",
              "<style scoped>\n",
              "    .dataframe tbody tr th:only-of-type {\n",
              "        vertical-align: middle;\n",
              "    }\n",
              "\n",
              "    .dataframe tbody tr th {\n",
              "        vertical-align: top;\n",
              "    }\n",
              "\n",
              "    .dataframe thead th {\n",
              "        text-align: right;\n",
              "    }\n",
              "</style>\n",
              "<table border=\"1\" class=\"dataframe\">\n",
              "  <thead>\n",
              "    <tr style=\"text-align: right;\">\n",
              "      <th></th>\n",
              "      <th>Link</th>\n",
              "      <th>Jaccard Coefficient</th>\n",
              "      <th>Preferential Attachment</th>\n",
              "      <th>Resource Allocation</th>\n",
              "    </tr>\n",
              "    <tr>\n",
              "      <th>Edge</th>\n",
              "      <th></th>\n",
              "      <th></th>\n",
              "      <th></th>\n",
              "      <th></th>\n",
              "    </tr>\n",
              "  </thead>\n",
              "  <tbody>\n",
              "    <tr>\n",
              "      <th>(1, 2)</th>\n",
              "      <td>1</td>\n",
              "      <td>0.0</td>\n",
              "      <td>1</td>\n",
              "      <td>0.0</td>\n",
              "    </tr>\n",
              "    <tr>\n",
              "      <th>(1, 3)</th>\n",
              "      <td>1</td>\n",
              "      <td>0.0</td>\n",
              "      <td>2</td>\n",
              "      <td>0.0</td>\n",
              "    </tr>\n",
              "    <tr>\n",
              "      <th>(1, 4)</th>\n",
              "      <td>1</td>\n",
              "      <td>0.0</td>\n",
              "      <td>1</td>\n",
              "      <td>0.0</td>\n",
              "    </tr>\n",
              "    <tr>\n",
              "      <th>(3, 4)</th>\n",
              "      <td>1</td>\n",
              "      <td>0.0</td>\n",
              "      <td>7</td>\n",
              "      <td>0.0</td>\n",
              "    </tr>\n",
              "    <tr>\n",
              "      <th>(3, 5)</th>\n",
              "      <td>1</td>\n",
              "      <td>0.0</td>\n",
              "      <td>1</td>\n",
              "      <td>0.0</td>\n",
              "    </tr>\n",
              "    <tr>\n",
              "      <th>...</th>\n",
              "      <td>...</td>\n",
              "      <td>...</td>\n",
              "      <td>...</td>\n",
              "      <td>...</td>\n",
              "    </tr>\n",
              "    <tr>\n",
              "      <th>(425, 429)</th>\n",
              "      <td>0</td>\n",
              "      <td>0.0</td>\n",
              "      <td>1</td>\n",
              "      <td>0.0</td>\n",
              "    </tr>\n",
              "    <tr>\n",
              "      <th>(426, 427)</th>\n",
              "      <td>0</td>\n",
              "      <td>0.0</td>\n",
              "      <td>2</td>\n",
              "      <td>0.0</td>\n",
              "    </tr>\n",
              "    <tr>\n",
              "      <th>(426, 428)</th>\n",
              "      <td>0</td>\n",
              "      <td>0.0</td>\n",
              "      <td>1</td>\n",
              "      <td>0.0</td>\n",
              "    </tr>\n",
              "    <tr>\n",
              "      <th>(426, 429)</th>\n",
              "      <td>0</td>\n",
              "      <td>0.0</td>\n",
              "      <td>1</td>\n",
              "      <td>0.0</td>\n",
              "    </tr>\n",
              "    <tr>\n",
              "      <th>(428, 429)</th>\n",
              "      <td>0</td>\n",
              "      <td>1.0</td>\n",
              "      <td>1</td>\n",
              "      <td>0.5</td>\n",
              "    </tr>\n",
              "  </tbody>\n",
              "</table>\n",
              "<p>91900 rows × 4 columns</p>\n",
              "</div>\n",
              "    <div class=\"colab-df-buttons\">\n",
              "\n",
              "  <div class=\"colab-df-container\">\n",
              "    <button class=\"colab-df-convert\" onclick=\"convertToInteractive('df-211af425-3f39-49c3-9f80-24a2fe772ec8')\"\n",
              "            title=\"Convert this dataframe to an interactive table.\"\n",
              "            style=\"display:none;\">\n",
              "\n",
              "  <svg xmlns=\"http://www.w3.org/2000/svg\" height=\"24px\" viewBox=\"0 -960 960 960\">\n",
              "    <path d=\"M120-120v-720h720v720H120Zm60-500h600v-160H180v160Zm220 220h160v-160H400v160Zm0 220h160v-160H400v160ZM180-400h160v-160H180v160Zm440 0h160v-160H620v160ZM180-180h160v-160H180v160Zm440 0h160v-160H620v160Z\"/>\n",
              "  </svg>\n",
              "    </button>\n",
              "\n",
              "  <style>\n",
              "    .colab-df-container {\n",
              "      display:flex;\n",
              "      gap: 12px;\n",
              "    }\n",
              "\n",
              "    .colab-df-convert {\n",
              "      background-color: #E8F0FE;\n",
              "      border: none;\n",
              "      border-radius: 50%;\n",
              "      cursor: pointer;\n",
              "      display: none;\n",
              "      fill: #1967D2;\n",
              "      height: 32px;\n",
              "      padding: 0 0 0 0;\n",
              "      width: 32px;\n",
              "    }\n",
              "\n",
              "    .colab-df-convert:hover {\n",
              "      background-color: #E2EBFA;\n",
              "      box-shadow: 0px 1px 2px rgba(60, 64, 67, 0.3), 0px 1px 3px 1px rgba(60, 64, 67, 0.15);\n",
              "      fill: #174EA6;\n",
              "    }\n",
              "\n",
              "    .colab-df-buttons div {\n",
              "      margin-bottom: 4px;\n",
              "    }\n",
              "\n",
              "    [theme=dark] .colab-df-convert {\n",
              "      background-color: #3B4455;\n",
              "      fill: #D2E3FC;\n",
              "    }\n",
              "\n",
              "    [theme=dark] .colab-df-convert:hover {\n",
              "      background-color: #434B5C;\n",
              "      box-shadow: 0px 1px 3px 1px rgba(0, 0, 0, 0.15);\n",
              "      filter: drop-shadow(0px 1px 2px rgba(0, 0, 0, 0.3));\n",
              "      fill: #FFFFFF;\n",
              "    }\n",
              "  </style>\n",
              "\n",
              "    <script>\n",
              "      const buttonEl =\n",
              "        document.querySelector('#df-211af425-3f39-49c3-9f80-24a2fe772ec8 button.colab-df-convert');\n",
              "      buttonEl.style.display =\n",
              "        google.colab.kernel.accessAllowed ? 'block' : 'none';\n",
              "\n",
              "      async function convertToInteractive(key) {\n",
              "        const element = document.querySelector('#df-211af425-3f39-49c3-9f80-24a2fe772ec8');\n",
              "        const dataTable =\n",
              "          await google.colab.kernel.invokeFunction('convertToInteractive',\n",
              "                                                    [key], {});\n",
              "        if (!dataTable) return;\n",
              "\n",
              "        const docLinkHtml = 'Like what you see? Visit the ' +\n",
              "          '<a target=\"_blank\" href=https://colab.research.google.com/notebooks/data_table.ipynb>data table notebook</a>'\n",
              "          + ' to learn more about interactive tables.';\n",
              "        element.innerHTML = '';\n",
              "        dataTable['output_type'] = 'display_data';\n",
              "        await google.colab.output.renderOutput(dataTable, element);\n",
              "        const docLink = document.createElement('div');\n",
              "        docLink.innerHTML = docLinkHtml;\n",
              "        element.appendChild(docLink);\n",
              "      }\n",
              "    </script>\n",
              "  </div>\n",
              "\n",
              "\n",
              "<div id=\"df-bc590a24-b248-411e-9349-5b2e585fbe35\">\n",
              "  <button class=\"colab-df-quickchart\" onclick=\"quickchart('df-bc590a24-b248-411e-9349-5b2e585fbe35')\"\n",
              "            title=\"Suggest charts\"\n",
              "            style=\"display:none;\">\n",
              "\n",
              "<svg xmlns=\"http://www.w3.org/2000/svg\" height=\"24px\"viewBox=\"0 0 24 24\"\n",
              "     width=\"24px\">\n",
              "    <g>\n",
              "        <path d=\"M19 3H5c-1.1 0-2 .9-2 2v14c0 1.1.9 2 2 2h14c1.1 0 2-.9 2-2V5c0-1.1-.9-2-2-2zM9 17H7v-7h2v7zm4 0h-2V7h2v10zm4 0h-2v-4h2v4z\"/>\n",
              "    </g>\n",
              "</svg>\n",
              "  </button>\n",
              "\n",
              "<style>\n",
              "  .colab-df-quickchart {\n",
              "      --bg-color: #E8F0FE;\n",
              "      --fill-color: #1967D2;\n",
              "      --hover-bg-color: #E2EBFA;\n",
              "      --hover-fill-color: #174EA6;\n",
              "      --disabled-fill-color: #AAA;\n",
              "      --disabled-bg-color: #DDD;\n",
              "  }\n",
              "\n",
              "  [theme=dark] .colab-df-quickchart {\n",
              "      --bg-color: #3B4455;\n",
              "      --fill-color: #D2E3FC;\n",
              "      --hover-bg-color: #434B5C;\n",
              "      --hover-fill-color: #FFFFFF;\n",
              "      --disabled-bg-color: #3B4455;\n",
              "      --disabled-fill-color: #666;\n",
              "  }\n",
              "\n",
              "  .colab-df-quickchart {\n",
              "    background-color: var(--bg-color);\n",
              "    border: none;\n",
              "    border-radius: 50%;\n",
              "    cursor: pointer;\n",
              "    display: none;\n",
              "    fill: var(--fill-color);\n",
              "    height: 32px;\n",
              "    padding: 0;\n",
              "    width: 32px;\n",
              "  }\n",
              "\n",
              "  .colab-df-quickchart:hover {\n",
              "    background-color: var(--hover-bg-color);\n",
              "    box-shadow: 0 1px 2px rgba(60, 64, 67, 0.3), 0 1px 3px 1px rgba(60, 64, 67, 0.15);\n",
              "    fill: var(--button-hover-fill-color);\n",
              "  }\n",
              "\n",
              "  .colab-df-quickchart-complete:disabled,\n",
              "  .colab-df-quickchart-complete:disabled:hover {\n",
              "    background-color: var(--disabled-bg-color);\n",
              "    fill: var(--disabled-fill-color);\n",
              "    box-shadow: none;\n",
              "  }\n",
              "\n",
              "  .colab-df-spinner {\n",
              "    border: 2px solid var(--fill-color);\n",
              "    border-color: transparent;\n",
              "    border-bottom-color: var(--fill-color);\n",
              "    animation:\n",
              "      spin 1s steps(1) infinite;\n",
              "  }\n",
              "\n",
              "  @keyframes spin {\n",
              "    0% {\n",
              "      border-color: transparent;\n",
              "      border-bottom-color: var(--fill-color);\n",
              "      border-left-color: var(--fill-color);\n",
              "    }\n",
              "    20% {\n",
              "      border-color: transparent;\n",
              "      border-left-color: var(--fill-color);\n",
              "      border-top-color: var(--fill-color);\n",
              "    }\n",
              "    30% {\n",
              "      border-color: transparent;\n",
              "      border-left-color: var(--fill-color);\n",
              "      border-top-color: var(--fill-color);\n",
              "      border-right-color: var(--fill-color);\n",
              "    }\n",
              "    40% {\n",
              "      border-color: transparent;\n",
              "      border-right-color: var(--fill-color);\n",
              "      border-top-color: var(--fill-color);\n",
              "    }\n",
              "    60% {\n",
              "      border-color: transparent;\n",
              "      border-right-color: var(--fill-color);\n",
              "    }\n",
              "    80% {\n",
              "      border-color: transparent;\n",
              "      border-right-color: var(--fill-color);\n",
              "      border-bottom-color: var(--fill-color);\n",
              "    }\n",
              "    90% {\n",
              "      border-color: transparent;\n",
              "      border-bottom-color: var(--fill-color);\n",
              "    }\n",
              "  }\n",
              "</style>\n",
              "\n",
              "  <script>\n",
              "    async function quickchart(key) {\n",
              "      const quickchartButtonEl =\n",
              "        document.querySelector('#' + key + ' button');\n",
              "      quickchartButtonEl.disabled = true;  // To prevent multiple clicks.\n",
              "      quickchartButtonEl.classList.add('colab-df-spinner');\n",
              "      try {\n",
              "        const charts = await google.colab.kernel.invokeFunction(\n",
              "            'suggestCharts', [key], {});\n",
              "      } catch (error) {\n",
              "        console.error('Error during call to suggestCharts:', error);\n",
              "      }\n",
              "      quickchartButtonEl.classList.remove('colab-df-spinner');\n",
              "      quickchartButtonEl.classList.add('colab-df-quickchart-complete');\n",
              "    }\n",
              "    (() => {\n",
              "      let quickchartButtonEl =\n",
              "        document.querySelector('#df-bc590a24-b248-411e-9349-5b2e585fbe35 button');\n",
              "      quickchartButtonEl.style.display =\n",
              "        google.colab.kernel.accessAllowed ? 'block' : 'none';\n",
              "    })();\n",
              "  </script>\n",
              "</div>\n",
              "    </div>\n",
              "  </div>\n"
            ]
          },
          "metadata": {},
          "execution_count": 17
        }
      ],
      "source": [
        "#dataframe for similarity-based measurement values\n",
        "#Jaccard Coefficient\n",
        "jc = [p for u,v,p in nx.jaccard_coefficient(G_reduced)]\n",
        "#Preferential Attachment\n",
        "pa = [p for u,v,p in nx.preferential_attachment(G_reduced)]\n",
        "#Resource Allocation\n",
        "ra = [p for u,v,p in nx.resource_allocation_index(G_reduced)]\n",
        "\n",
        "#modify dataframe\n",
        "df[\"Jaccard Coefficient\"] = jc\n",
        "df[\"Preferential Attachment\"] = pa\n",
        "df[\"Resource Allocation\"] = ra\n",
        "df.set_index(\"Edge\")"
      ]
    },
    {
      "cell_type": "markdown",
      "id": "76f9318d",
      "metadata": {
        "id": "76f9318d"
      },
      "source": [
        "<li><B>3(iiiα).</B> Χρησιμοποιήστε τον Random Forest Classifier και το αντίγραφο dataframe που κατασκευάσατε στο ερώτημα 3(ii), για να προβλέψετε συνδέσεις. Συμπληρώστε στον κώδικα: τα features ($X$), την target variable ($y$) και τα ορίσματα της συνάρτησης $fit$ για το training του μοντέλου.</li>\n",
        "<li><B>3(iiiβ).</B> Δώστε τις ($A.M$ $mod$ $10$) πρώτες προβλέψεις και την ακρίβεια ($accuracy$) του μοντέλου. </li>\n",
        "<li><B>3(iiiγ).</B>Υπολογίστε την πιθανότητα να συνδεθούν οι κόμβοι ($1$,$47$) βάσει του μοντέλου σας. </li>  "
      ]
    },
    {
      "cell_type": "code",
      "execution_count": 18,
      "id": "df4a65f5",
      "metadata": {
        "id": "df4a65f5"
      },
      "outputs": [],
      "source": [
        "from sklearn.model_selection import train_test_split\n",
        "from sklearn.ensemble import RandomForestClassifier\n",
        "from sklearn.metrics import accuracy_score\n",
        "from sklearn.model_selection import GridSearchCV\n",
        "\n",
        "X = np.array([df[\"Jaccard Coefficient\"], df[\"Preferential Attachment\"], df[\"Resource Allocation\"]]).T #features\n",
        "y = df['Link'] #target\n",
        "\n",
        "X_train, X_test, y_train, y_test = train_test_split(X, y, random_state = 0)"
      ]
    },
    {
      "cell_type": "code",
      "execution_count": 19,
      "id": "26affc3a",
      "metadata": {
        "id": "26affc3a"
      },
      "outputs": [],
      "source": [
        "classifier = RandomForestClassifier()\n",
        "\n",
        "from sklearn.preprocessing import MinMaxScaler\n",
        "mm_scaler = MinMaxScaler()\n",
        "X_train_scaled = mm_scaler.fit_transform(X_train)\n",
        "X_test_scaled = mm_scaler.transform(X_test)\n",
        "\n",
        "parameters = {'n_estimators' : [10,50,100], 'max_depth' : [5,10,15]}\n",
        "model = GridSearchCV(classifier, param_grid = parameters)"
      ]
    },
    {
      "cell_type": "code",
      "execution_count": 20,
      "id": "431e2d35",
      "metadata": {
        "id": "431e2d35",
        "colab": {
          "base_uri": "https://localhost:8080/",
          "height": 118
        },
        "outputId": "928b3302-6879-4eaf-a4af-aa7fae7fa98b"
      },
      "outputs": [
        {
          "output_type": "execute_result",
          "data": {
            "text/plain": [
              "GridSearchCV(estimator=RandomForestClassifier(),\n",
              "             param_grid={'max_depth': [5, 10, 15],\n",
              "                         'n_estimators': [10, 50, 100]})"
            ],
            "text/html": [
              "<style>#sk-container-id-1 {color: black;background-color: white;}#sk-container-id-1 pre{padding: 0;}#sk-container-id-1 div.sk-toggleable {background-color: white;}#sk-container-id-1 label.sk-toggleable__label {cursor: pointer;display: block;width: 100%;margin-bottom: 0;padding: 0.3em;box-sizing: border-box;text-align: center;}#sk-container-id-1 label.sk-toggleable__label-arrow:before {content: \"▸\";float: left;margin-right: 0.25em;color: #696969;}#sk-container-id-1 label.sk-toggleable__label-arrow:hover:before {color: black;}#sk-container-id-1 div.sk-estimator:hover label.sk-toggleable__label-arrow:before {color: black;}#sk-container-id-1 div.sk-toggleable__content {max-height: 0;max-width: 0;overflow: hidden;text-align: left;background-color: #f0f8ff;}#sk-container-id-1 div.sk-toggleable__content pre {margin: 0.2em;color: black;border-radius: 0.25em;background-color: #f0f8ff;}#sk-container-id-1 input.sk-toggleable__control:checked~div.sk-toggleable__content {max-height: 200px;max-width: 100%;overflow: auto;}#sk-container-id-1 input.sk-toggleable__control:checked~label.sk-toggleable__label-arrow:before {content: \"▾\";}#sk-container-id-1 div.sk-estimator input.sk-toggleable__control:checked~label.sk-toggleable__label {background-color: #d4ebff;}#sk-container-id-1 div.sk-label input.sk-toggleable__control:checked~label.sk-toggleable__label {background-color: #d4ebff;}#sk-container-id-1 input.sk-hidden--visually {border: 0;clip: rect(1px 1px 1px 1px);clip: rect(1px, 1px, 1px, 1px);height: 1px;margin: -1px;overflow: hidden;padding: 0;position: absolute;width: 1px;}#sk-container-id-1 div.sk-estimator {font-family: monospace;background-color: #f0f8ff;border: 1px dotted black;border-radius: 0.25em;box-sizing: border-box;margin-bottom: 0.5em;}#sk-container-id-1 div.sk-estimator:hover {background-color: #d4ebff;}#sk-container-id-1 div.sk-parallel-item::after {content: \"\";width: 100%;border-bottom: 1px solid gray;flex-grow: 1;}#sk-container-id-1 div.sk-label:hover label.sk-toggleable__label {background-color: #d4ebff;}#sk-container-id-1 div.sk-serial::before {content: \"\";position: absolute;border-left: 1px solid gray;box-sizing: border-box;top: 0;bottom: 0;left: 50%;z-index: 0;}#sk-container-id-1 div.sk-serial {display: flex;flex-direction: column;align-items: center;background-color: white;padding-right: 0.2em;padding-left: 0.2em;position: relative;}#sk-container-id-1 div.sk-item {position: relative;z-index: 1;}#sk-container-id-1 div.sk-parallel {display: flex;align-items: stretch;justify-content: center;background-color: white;position: relative;}#sk-container-id-1 div.sk-item::before, #sk-container-id-1 div.sk-parallel-item::before {content: \"\";position: absolute;border-left: 1px solid gray;box-sizing: border-box;top: 0;bottom: 0;left: 50%;z-index: -1;}#sk-container-id-1 div.sk-parallel-item {display: flex;flex-direction: column;z-index: 1;position: relative;background-color: white;}#sk-container-id-1 div.sk-parallel-item:first-child::after {align-self: flex-end;width: 50%;}#sk-container-id-1 div.sk-parallel-item:last-child::after {align-self: flex-start;width: 50%;}#sk-container-id-1 div.sk-parallel-item:only-child::after {width: 0;}#sk-container-id-1 div.sk-dashed-wrapped {border: 1px dashed gray;margin: 0 0.4em 0.5em 0.4em;box-sizing: border-box;padding-bottom: 0.4em;background-color: white;}#sk-container-id-1 div.sk-label label {font-family: monospace;font-weight: bold;display: inline-block;line-height: 1.2em;}#sk-container-id-1 div.sk-label-container {text-align: center;}#sk-container-id-1 div.sk-container {/* jupyter's `normalize.less` sets `[hidden] { display: none; }` but bootstrap.min.css set `[hidden] { display: none !important; }` so we also need the `!important` here to be able to override the default hidden behavior on the sphinx rendered scikit-learn.org. See: https://github.com/scikit-learn/scikit-learn/issues/21755 */display: inline-block !important;position: relative;}#sk-container-id-1 div.sk-text-repr-fallback {display: none;}</style><div id=\"sk-container-id-1\" class=\"sk-top-container\"><div class=\"sk-text-repr-fallback\"><pre>GridSearchCV(estimator=RandomForestClassifier(),\n",
              "             param_grid={&#x27;max_depth&#x27;: [5, 10, 15],\n",
              "                         &#x27;n_estimators&#x27;: [10, 50, 100]})</pre><b>In a Jupyter environment, please rerun this cell to show the HTML representation or trust the notebook. <br />On GitHub, the HTML representation is unable to render, please try loading this page with nbviewer.org.</b></div><div class=\"sk-container\" hidden><div class=\"sk-item sk-dashed-wrapped\"><div class=\"sk-label-container\"><div class=\"sk-label sk-toggleable\"><input class=\"sk-toggleable__control sk-hidden--visually\" id=\"sk-estimator-id-1\" type=\"checkbox\" ><label for=\"sk-estimator-id-1\" class=\"sk-toggleable__label sk-toggleable__label-arrow\">GridSearchCV</label><div class=\"sk-toggleable__content\"><pre>GridSearchCV(estimator=RandomForestClassifier(),\n",
              "             param_grid={&#x27;max_depth&#x27;: [5, 10, 15],\n",
              "                         &#x27;n_estimators&#x27;: [10, 50, 100]})</pre></div></div></div><div class=\"sk-parallel\"><div class=\"sk-parallel-item\"><div class=\"sk-item\"><div class=\"sk-label-container\"><div class=\"sk-label sk-toggleable\"><input class=\"sk-toggleable__control sk-hidden--visually\" id=\"sk-estimator-id-2\" type=\"checkbox\" ><label for=\"sk-estimator-id-2\" class=\"sk-toggleable__label sk-toggleable__label-arrow\">estimator: RandomForestClassifier</label><div class=\"sk-toggleable__content\"><pre>RandomForestClassifier()</pre></div></div></div><div class=\"sk-serial\"><div class=\"sk-item\"><div class=\"sk-estimator sk-toggleable\"><input class=\"sk-toggleable__control sk-hidden--visually\" id=\"sk-estimator-id-3\" type=\"checkbox\" ><label for=\"sk-estimator-id-3\" class=\"sk-toggleable__label sk-toggleable__label-arrow\">RandomForestClassifier</label><div class=\"sk-toggleable__content\"><pre>RandomForestClassifier()</pre></div></div></div></div></div></div></div></div></div></div>"
            ]
          },
          "metadata": {},
          "execution_count": 20
        }
      ],
      "source": [
        "model.fit(X_train_scaled, y_train)#train the model, uncomment and complete"
      ]
    },
    {
      "cell_type": "code",
      "execution_count": 21,
      "id": "1b075584",
      "metadata": {
        "id": "1b075584",
        "colab": {
          "base_uri": "https://localhost:8080/"
        },
        "outputId": "7e9dcff7-0db5-4707-9143-e2486c354bff"
      },
      "outputs": [
        {
          "output_type": "stream",
          "name": "stdout",
          "text": [
            "Predictions for first 2 elements are: \n",
            "[0 0]\n",
            "Model accuracy is: \n",
            "0.997519042437432\n"
          ]
        }
      ],
      "source": [
        "predictions = model.predict(X_test_scaled)\n",
        "print(\"Predictions for first 2 elements are: \")\n",
        "print(predictions[:2]) #get (A.M. last digit=2) first predictions\n",
        "print(\"Model accuracy is: \")\n",
        "print(accuracy_score(y_test, predictions))"
      ]
    },
    {
      "cell_type": "code",
      "source": [
        "row = df.loc[df['Edge'] == (1, 47)]\n",
        "X_new = np.array([row[\"Jaccard Coefficient\"], row[\"Preferential Attachment\"], row[\"Resource Allocation\"]]).T\n",
        "X_new_scaled = mm_scaler.fit_transform(X_new)\n",
        "predict_proba = model.predict_proba(X_new_scaled)\n",
        "print(\"Probability for edge to be formed between nodes 1 and 47 is: \")\n",
        "print(predict_proba[0][1]) #desired spot in the array, class that represents existence of link"
      ],
      "metadata": {
        "colab": {
          "base_uri": "https://localhost:8080/"
        },
        "id": "h7YP_3cBVZiI",
        "outputId": "508d0106-5d8c-4ca8-f892-3f08d9d09390"
      },
      "id": "h7YP_3cBVZiI",
      "execution_count": 22,
      "outputs": [
        {
          "output_type": "stream",
          "name": "stdout",
          "text": [
            "Probability for edge to be formed between nodes 1 and 47 is: \n",
            "0.0\n"
          ]
        }
      ]
    },
    {
      "cell_type": "markdown",
      "id": "f4c43988",
      "metadata": {
        "id": "f4c43988"
      },
      "source": [
        "<html><font size=4><B>4. Πρόβλεψη συνδέσμων με embedding βασισμένο σε τυχαίους περιπάτους (Random Walks) </B></font><BR><BR>\n",
        "    <li><B>4(i).</B> Εξάγετε τα χαρακτηριστικά (features) του γράφου $G'$, που προέκυψε από την αφαίρεση των ακμών. Για τον σκοπό αυτό χρησιμοποιήστε τον αλγόριθμο <B>Node2vec</B> <a href=\"https://cs.stanford.edu/~jure/pubs/node2vec-kdd16.pdf\">[3]</a>. Ο αλγόριθμος αντιστοιχίζει τους κόμβους του γράφου μέσω τυχαίων περιπάτων (biased 2nd order random walks) σε ένα χώρο μικρού αριθμού διαστάσεων (low dimensional space) διατηρώντας την μεταξύ τους γειτνίαση.\n",
        "        <BR>Για την επιλογή των παραμέτρων:\n",
        "            <li>p - παράμετρος τυχαίων περιπάτων p που καθορίζει την πιθανότητα “1/p” επιστροφής στον κόμβο προέλευσης (source node), </li>\n",
        "                <li>q - παράμετρος τυχαίων περιπάτων q που καθορίζει την πιθανότητα  “1/q” μετακίνησης σε κόμβο μακριά από τον κόμβο προέλευσης (source node), </li>\n",
        "                 <li>dimensions - πλήθος διαστάσεων των Node2Vec embeddings, </li>\n",
        "                     <li>num_walks - αριθμός περιπάτων από κάθε κόμβο, </li>\n",
        "                         <li>walk_length - μήκος τυχαίου περιπάτου, </li>\n",
        "                             <li>window_size - μέγεθος παραθύρου context για τον αλγόριθμο Word2Vec, </li><li>num_iter - αριθμός SGD επαναλήψεων (epochs), </li>\n",
        "            <li>workers - αριθμός workers για τον Word2Vec,</li>\n",
        "            χρησιμοποιήστε τις τιμές:   </html>\n",
        "   \n",
        "                   "
      ]
    },
    {
      "cell_type": "markdown",
      "id": "fdbc5274",
      "metadata": {
        "id": "fdbc5274"
      },
      "source": [
        " |   p   |   q   | dimensions|  num_walks  |walk_length |window_size|        workers            |\n",
        " |-------|-------|-----------|-------------|------------|-----------|---------------------------|\n",
        " |  1.0  |  1.0  |  128      |     10      |    80      |     10    |multiprocessing.cpu_count()|"
      ]
    },
    {
      "cell_type": "code",
      "execution_count": 23,
      "id": "aa8e668d",
      "metadata": {
        "id": "aa8e668d",
        "colab": {
          "base_uri": "https://localhost:8080/",
          "height": 523
        },
        "outputId": "b75365c8-2f50-4b1c-c235-4e7dbeceaa0b"
      },
      "outputs": [
        {
          "output_type": "stream",
          "name": "stdout",
          "text": [
            "Collecting node2vec\n",
            "  Downloading node2vec-0.4.6-py3-none-any.whl (7.0 kB)\n",
            "Requirement already satisfied: gensim<5.0.0,>=4.1.2 in /usr/local/lib/python3.10/dist-packages (from node2vec) (4.3.2)\n",
            "Requirement already satisfied: joblib<2.0.0,>=1.1.0 in /usr/local/lib/python3.10/dist-packages (from node2vec) (1.3.2)\n",
            "Collecting networkx<3.0,>=2.5 (from node2vec)\n",
            "  Downloading networkx-2.8.8-py3-none-any.whl (2.0 MB)\n",
            "\u001b[2K     \u001b[90m━━━━━━━━━━━━━━━━━━━━━━━━━━━━━━━━━━━━━━━━\u001b[0m \u001b[32m2.0/2.0 MB\u001b[0m \u001b[31m9.3 MB/s\u001b[0m eta \u001b[36m0:00:00\u001b[0m\n",
            "\u001b[?25hRequirement already satisfied: numpy<2.0.0,>=1.19.5 in /usr/local/lib/python3.10/dist-packages (from node2vec) (1.23.5)\n",
            "Requirement already satisfied: tqdm<5.0.0,>=4.55.1 in /usr/local/lib/python3.10/dist-packages (from node2vec) (4.66.1)\n",
            "Requirement already satisfied: scipy>=1.7.0 in /usr/local/lib/python3.10/dist-packages (from gensim<5.0.0,>=4.1.2->node2vec) (1.11.4)\n",
            "Requirement already satisfied: smart-open>=1.8.1 in /usr/local/lib/python3.10/dist-packages (from gensim<5.0.0,>=4.1.2->node2vec) (6.4.0)\n",
            "Installing collected packages: networkx, node2vec\n",
            "  Attempting uninstall: networkx\n",
            "    Found existing installation: networkx 3.2.1\n",
            "    Uninstalling networkx-3.2.1:\n",
            "      Successfully uninstalled networkx-3.2.1\n",
            "\u001b[31mERROR: pip's dependency resolver does not currently take into account all the packages that are installed. This behaviour is the source of the following dependency conflicts.\n",
            "lida 0.0.10 requires fastapi, which is not installed.\n",
            "lida 0.0.10 requires kaleido, which is not installed.\n",
            "lida 0.0.10 requires python-multipart, which is not installed.\n",
            "lida 0.0.10 requires uvicorn, which is not installed.\u001b[0m\u001b[31m\n",
            "\u001b[0mSuccessfully installed networkx-2.8.8 node2vec-0.4.6\n"
          ]
        },
        {
          "output_type": "display_data",
          "data": {
            "application/vnd.colab-display-data+json": {
              "pip_warning": {
                "packages": [
                  "networkx"
                ]
              }
            }
          },
          "metadata": {}
        }
      ],
      "source": [
        "!pip install node2vec\n",
        "#install node2vec with conda / pip"
      ]
    },
    {
      "cell_type": "code",
      "source": [
        "from node2vec import Node2Vec\n",
        "import multiprocessing\n",
        "\n",
        "#generate walks\n",
        "node2vec_walker = Node2Vec(G_reduced, p=1, q=1, dimensions=128, num_walks=10, walk_length=80, workers = multiprocessing.cpu_count())\n",
        "\n",
        "#train node2vec model\n",
        "n2v_model = node2vec_walker.fit(window=10 , min_count=1)"
      ],
      "metadata": {
        "colab": {
          "base_uri": "https://localhost:8080/",
          "height": 49,
          "referenced_widgets": [
            "d69178724c5642708c67d896aa8c78d1",
            "ca426499a4254c35808f1cdd9356437f",
            "923b7821f5d24054a978a5eb648479d6",
            "a663f9a2bcd64f3f97bec90d13ccbf75",
            "fd9e4bc60d84440dbabbf509a059dfd5",
            "efbf0f5001314fa3b74542b10bd0caee",
            "4ac0f4034a6247fca8b683d81ff41e87",
            "1baceb22da1b4dd4a64ca131a2d9c3a7",
            "16b05a68d3fd41b59c5e5c3a22af84ed",
            "e7bf3cfa4a5e487c98c6a776d8548fdb",
            "c359191535e445b7b707940f4647ffdf"
          ]
        },
        "id": "f32dFCsjMgPM",
        "outputId": "d805c40f-dc81-4943-e443-ee19a158659e"
      },
      "id": "f32dFCsjMgPM",
      "execution_count": 24,
      "outputs": [
        {
          "output_type": "display_data",
          "data": {
            "text/plain": [
              "Computing transition probabilities:   0%|          | 0/430 [00:00<?, ?it/s]"
            ],
            "application/vnd.jupyter.widget-view+json": {
              "version_major": 2,
              "version_minor": 0,
              "model_id": "d69178724c5642708c67d896aa8c78d1"
            }
          },
          "metadata": {}
        }
      ]
    },
    {
      "cell_type": "markdown",
      "id": "294f0aab",
      "metadata": {
        "id": "294f0aab"
      },
      "source": [
        "<html><font>\n",
        "    <li><B>4(ii).</B> Εφαρμόστε τον αλγόριθμο Random Forest Classifier, για να προβλέψετε τις συνδέσεις.</li><BR>\n",
        "    <li><B>4(iii).</B> Υπολογίστε την ακρίβεια ($accuracy$) του μοντέλου. </li><BR></font></html>"
      ]
    },
    {
      "cell_type": "code",
      "source": [
        "#4(ii)\n",
        "#apply trained Node2Vec model on each node pair of the dataframe \"unconnected+removables\"\n",
        "X = [(n2v_model.wv[(i)] + n2v_model.wv[(j)]) for i, j in df3['Edge']]"
      ],
      "metadata": {
        "id": "J_II-9imWiYu"
      },
      "id": "J_II-9imWiYu",
      "execution_count": 25,
      "outputs": []
    },
    {
      "cell_type": "code",
      "execution_count": 26,
      "id": "b74e7aa7",
      "metadata": {
        "id": "b74e7aa7"
      },
      "outputs": [],
      "source": [
        "X_train, X_test, y_train, y_test = train_test_split(X, y, random_state = 0)"
      ]
    },
    {
      "cell_type": "code",
      "execution_count": 27,
      "id": "e75cfde7",
      "metadata": {
        "id": "e75cfde7",
        "colab": {
          "base_uri": "https://localhost:8080/",
          "height": 75
        },
        "outputId": "7c208bc8-b8f4-4bf2-8027-f4cdaa063657"
      },
      "outputs": [
        {
          "output_type": "execute_result",
          "data": {
            "text/plain": [
              "RandomForestClassifier(max_depth=2, random_state=0)"
            ],
            "text/html": [
              "<style>#sk-container-id-2 {color: black;background-color: white;}#sk-container-id-2 pre{padding: 0;}#sk-container-id-2 div.sk-toggleable {background-color: white;}#sk-container-id-2 label.sk-toggleable__label {cursor: pointer;display: block;width: 100%;margin-bottom: 0;padding: 0.3em;box-sizing: border-box;text-align: center;}#sk-container-id-2 label.sk-toggleable__label-arrow:before {content: \"▸\";float: left;margin-right: 0.25em;color: #696969;}#sk-container-id-2 label.sk-toggleable__label-arrow:hover:before {color: black;}#sk-container-id-2 div.sk-estimator:hover label.sk-toggleable__label-arrow:before {color: black;}#sk-container-id-2 div.sk-toggleable__content {max-height: 0;max-width: 0;overflow: hidden;text-align: left;background-color: #f0f8ff;}#sk-container-id-2 div.sk-toggleable__content pre {margin: 0.2em;color: black;border-radius: 0.25em;background-color: #f0f8ff;}#sk-container-id-2 input.sk-toggleable__control:checked~div.sk-toggleable__content {max-height: 200px;max-width: 100%;overflow: auto;}#sk-container-id-2 input.sk-toggleable__control:checked~label.sk-toggleable__label-arrow:before {content: \"▾\";}#sk-container-id-2 div.sk-estimator input.sk-toggleable__control:checked~label.sk-toggleable__label {background-color: #d4ebff;}#sk-container-id-2 div.sk-label input.sk-toggleable__control:checked~label.sk-toggleable__label {background-color: #d4ebff;}#sk-container-id-2 input.sk-hidden--visually {border: 0;clip: rect(1px 1px 1px 1px);clip: rect(1px, 1px, 1px, 1px);height: 1px;margin: -1px;overflow: hidden;padding: 0;position: absolute;width: 1px;}#sk-container-id-2 div.sk-estimator {font-family: monospace;background-color: #f0f8ff;border: 1px dotted black;border-radius: 0.25em;box-sizing: border-box;margin-bottom: 0.5em;}#sk-container-id-2 div.sk-estimator:hover {background-color: #d4ebff;}#sk-container-id-2 div.sk-parallel-item::after {content: \"\";width: 100%;border-bottom: 1px solid gray;flex-grow: 1;}#sk-container-id-2 div.sk-label:hover label.sk-toggleable__label {background-color: #d4ebff;}#sk-container-id-2 div.sk-serial::before {content: \"\";position: absolute;border-left: 1px solid gray;box-sizing: border-box;top: 0;bottom: 0;left: 50%;z-index: 0;}#sk-container-id-2 div.sk-serial {display: flex;flex-direction: column;align-items: center;background-color: white;padding-right: 0.2em;padding-left: 0.2em;position: relative;}#sk-container-id-2 div.sk-item {position: relative;z-index: 1;}#sk-container-id-2 div.sk-parallel {display: flex;align-items: stretch;justify-content: center;background-color: white;position: relative;}#sk-container-id-2 div.sk-item::before, #sk-container-id-2 div.sk-parallel-item::before {content: \"\";position: absolute;border-left: 1px solid gray;box-sizing: border-box;top: 0;bottom: 0;left: 50%;z-index: -1;}#sk-container-id-2 div.sk-parallel-item {display: flex;flex-direction: column;z-index: 1;position: relative;background-color: white;}#sk-container-id-2 div.sk-parallel-item:first-child::after {align-self: flex-end;width: 50%;}#sk-container-id-2 div.sk-parallel-item:last-child::after {align-self: flex-start;width: 50%;}#sk-container-id-2 div.sk-parallel-item:only-child::after {width: 0;}#sk-container-id-2 div.sk-dashed-wrapped {border: 1px dashed gray;margin: 0 0.4em 0.5em 0.4em;box-sizing: border-box;padding-bottom: 0.4em;background-color: white;}#sk-container-id-2 div.sk-label label {font-family: monospace;font-weight: bold;display: inline-block;line-height: 1.2em;}#sk-container-id-2 div.sk-label-container {text-align: center;}#sk-container-id-2 div.sk-container {/* jupyter's `normalize.less` sets `[hidden] { display: none; }` but bootstrap.min.css set `[hidden] { display: none !important; }` so we also need the `!important` here to be able to override the default hidden behavior on the sphinx rendered scikit-learn.org. See: https://github.com/scikit-learn/scikit-learn/issues/21755 */display: inline-block !important;position: relative;}#sk-container-id-2 div.sk-text-repr-fallback {display: none;}</style><div id=\"sk-container-id-2\" class=\"sk-top-container\"><div class=\"sk-text-repr-fallback\"><pre>RandomForestClassifier(max_depth=2, random_state=0)</pre><b>In a Jupyter environment, please rerun this cell to show the HTML representation or trust the notebook. <br />On GitHub, the HTML representation is unable to render, please try loading this page with nbviewer.org.</b></div><div class=\"sk-container\" hidden><div class=\"sk-item\"><div class=\"sk-estimator sk-toggleable\"><input class=\"sk-toggleable__control sk-hidden--visually\" id=\"sk-estimator-id-4\" type=\"checkbox\" checked><label for=\"sk-estimator-id-4\" class=\"sk-toggleable__label sk-toggleable__label-arrow\">RandomForestClassifier</label><div class=\"sk-toggleable__content\"><pre>RandomForestClassifier(max_depth=2, random_state=0)</pre></div></div></div></div></div>"
            ]
          },
          "metadata": {},
          "execution_count": 27
        }
      ],
      "source": [
        "from sklearn.ensemble import RandomForestClassifier\n",
        "from sklearn.metrics import accuracy_score\n",
        "\n",
        "classifier = RandomForestClassifier(max_depth=2, random_state=0)\n",
        "classifier.fit(X_train, y_train)"
      ]
    },
    {
      "cell_type": "code",
      "source": [
        "#4(iii)\n",
        "predictions = classifier.predict(X_test)\n",
        "print(\"Model accuracy is: \")\n",
        "print(accuracy_score(y_test, predictions))"
      ],
      "metadata": {
        "colab": {
          "base_uri": "https://localhost:8080/"
        },
        "id": "fb_B2rVkd3OY",
        "outputId": "b9297078-8e78-41e6-a806-301b88a0bd01"
      },
      "id": "fb_B2rVkd3OY",
      "execution_count": 28,
      "outputs": [
        {
          "output_type": "stream",
          "name": "stdout",
          "text": [
            "Model accuracy is: \n",
            "0.997519042437432\n"
          ]
        }
      ]
    },
    {
      "cell_type": "markdown",
      "id": "a0c0b3bb",
      "metadata": {
        "id": "a0c0b3bb"
      },
      "source": [
        "<html><font size=4> <B><U>Ερώτηση bonus (+10/100)</U><B>: </font>Για τους binary operators για learning των edge features με τον αλγόριθμο Node2Vec που αναφέρονται στο <a href=\"https://cs.stanford.edu/~jure/pubs/node2vec-kdd16.pdf\">[3]</a> ((α) Average, (β) Hadamard, (γ) Weighted-L1 και (δ) Weighted-L2) τροποποιήστε τoν κώδικά σας και σημειώστε τις παρατηρήσεις σας ως προς την απόδοση του αλγορίθμου.</font></html>"
      ]
    },
    {
      "cell_type": "markdown",
      "id": "8da3a402",
      "metadata": {
        "id": "8da3a402"
      },
      "source": [
        "<html><font size=4><B><U>Βιβλιογραφία:</U></B><BR></font>\n",
        "<a href=\"https://dl.acm.org/doi/10.1145/2487788.2488173\">[1]\tJérôme Kunegis. KONECT – The Koblenz Network Collection. In Proc. Int. Conf. on World Wide Web Companion, pages 1343–1350, 2013.</a><BR>\n",
        "<a href=\"https://link.springer.com/chapter/10.1007/978-3-540-76298-0_52\">[2]\tSören Auer, Christian Bizer, Georgi Kobilarov, Jens Lehmann, Richard Cyganiak, and Zachary Ives. DBpedia: A nucleus for a web of open data. In Proc. Int. Semant. Web Conf., pages 722–735, 2008.<BR>\n",
        "<a href=\"https://cs.stanford.edu/~jure/pubs/node2vec-kdd16.pdf\">[3] A. Grover, J. Leskovec, Node2vec: Scalable Feature Learning for Networks. ACM KDD, 2016.</a><BR>\n",
        " <a href=\"https://proceedings.neurips.cc/paper/2013/file/9aa42b31882ec039965f3c4923ce901b-Paper.pdf\">[4] T.Mikolov, I.Sutskever, K.Chen, G.S.Corrado and J.Dean, Distributed representations of words and phrases and their compositionality. In NIPS, 2013.</a><BR></font></html>"
      ]
    },
    {
      "cell_type": "markdown",
      "source": [
        "Απο τη βιβλιογραφία <a href=\"https://cs.stanford.edu/~jure/pubs/node2vec-kdd16.pdf\">[3]</a>:\n",
        "\n",
        "\n",
        "![image.png](data:image/png;base64,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)"
      ],
      "metadata": {
        "id": "L5SYisByiEZ5"
      },
      "id": "L5SYisByiEZ5"
    },
    {
      "cell_type": "markdown",
      "source": [
        "Επαναλαμβάνω τον κώδικα για τα unconnected_pairs λόγω λάθους που δεν επηρεάζει τα προηγούμενα αποτελέσματα (κόμβος 0) αλλά χρειάζεται για τους binary operators."
      ],
      "metadata": {
        "id": "wP_mNE813huE"
      },
      "id": "wP_mNE813huE"
    },
    {
      "cell_type": "code",
      "source": [
        "nodes = list(dbpedia.nodes())\n",
        "unconnected_node_pairs = [] #list of tuples of ints\n",
        "for i in range(initial_node_count):\n",
        "  for j in range(i+1, initial_node_count):\n",
        "    if (adj_matrix[i][j] == 0):\n",
        "      unconnected_node_pairs.append((nodes[i], nodes[j]))\n",
        "\n",
        "total = unconnected_node_pairs + removable_edges"
      ],
      "metadata": {
        "id": "Q5E5qbCY3hKm"
      },
      "id": "Q5E5qbCY3hKm",
      "execution_count": 199,
      "outputs": []
    },
    {
      "cell_type": "code",
      "source": [
        "from node2vec.edges import AverageEmbedder\n",
        "from node2vec.edges import HadamardEmbedder\n",
        "from node2vec.edges import WeightedL1Embedder\n",
        "from node2vec.edges import WeightedL2Embedder"
      ],
      "metadata": {
        "id": "Xu26nT7OHpjX"
      },
      "id": "Xu26nT7OHpjX",
      "execution_count": 204,
      "outputs": []
    },
    {
      "cell_type": "code",
      "source": [
        "embedders = []\n",
        "embedders.append(AverageEmbedder)\n",
        "embedders.append(HadamardEmbedder)\n",
        "embedders.append(WeightedL1Embedder)\n",
        "embedders.append(WeightedL2Embedder)"
      ],
      "metadata": {
        "id": "XltciZNWJTpB"
      },
      "id": "XltciZNWJTpB",
      "execution_count": 214,
      "outputs": []
    },
    {
      "cell_type": "code",
      "source": [
        "def embedding_method_accuracy (embedding_method):\n",
        "\n",
        "  binary = embedding_method(keyed_vectors=n2v_model.wv)\n",
        "\n",
        "  X_n2v = [binary[(str(i), str(j))] for i, j in total]\n",
        "  Y_n2v = y\n",
        "\n",
        "  x_train, x_test, y_train, y_test = train_test_split(X_n2v, Y_n2v, test_size=0.33, random_state = 0)\n",
        "\n",
        "  classifier = RandomForestClassifier(max_depth=2, random_state=0)\n",
        "\n",
        "  classifier.fit(x_train, y_train)\n",
        "\n",
        "  predictions = classifier.predict(x_test)\n",
        "\n",
        "  return accuracy_score(y_test, predictions)"
      ],
      "metadata": {
        "id": "dRnZIfAAG78T"
      },
      "id": "dRnZIfAAG78T",
      "execution_count": 215,
      "outputs": []
    },
    {
      "cell_type": "code",
      "source": [
        "from tqdm import tqdm\n",
        "for em in tqdm(embedders):\n",
        "  print(\"Accuracy is\")\n",
        "  print(embedding_method_accuracy(em))"
      ],
      "metadata": {
        "colab": {
          "base_uri": "https://localhost:8080/"
        },
        "id": "jl4SdJJUI84z",
        "outputId": "e94bdac5-f455-454f-bef9-d15311e59026"
      },
      "id": "jl4SdJJUI84z",
      "execution_count": 216,
      "outputs": [
        {
          "output_type": "stream",
          "name": "stderr",
          "text": [
            "\r  0%|          | 0/4 [00:00<?, ?it/s]"
          ]
        },
        {
          "output_type": "stream",
          "name": "stdout",
          "text": [
            "Accuracy for <class 'node2vec.edges.AverageEmbedder'>\n"
          ]
        },
        {
          "output_type": "stream",
          "name": "stderr",
          "text": [
            "\r 25%|██▌       | 1/4 [00:16<00:49, 16.47s/it]"
          ]
        },
        {
          "output_type": "stream",
          "name": "stdout",
          "text": [
            "0.9977247996834504\n",
            "Accuracy for <class 'node2vec.edges.HadamardEmbedder'>\n"
          ]
        },
        {
          "output_type": "stream",
          "name": "stderr",
          "text": [
            "\r 50%|█████     | 2/4 [00:30<00:30, 15.28s/it]"
          ]
        },
        {
          "output_type": "stream",
          "name": "stdout",
          "text": [
            "0.9977247996834504\n",
            "Accuracy for <class 'node2vec.edges.WeightedL1Embedder'>\n"
          ]
        },
        {
          "output_type": "stream",
          "name": "stderr",
          "text": [
            "\r 75%|███████▌  | 3/4 [00:45<00:15, 15.05s/it]"
          ]
        },
        {
          "output_type": "stream",
          "name": "stdout",
          "text": [
            "0.9977247996834504\n",
            "Accuracy for <class 'node2vec.edges.WeightedL2Embedder'>\n"
          ]
        },
        {
          "output_type": "stream",
          "name": "stderr",
          "text": [
            "100%|██████████| 4/4 [01:00<00:00, 15.13s/it]"
          ]
        },
        {
          "output_type": "stream",
          "name": "stdout",
          "text": [
            "0.9977247996834504\n"
          ]
        },
        {
          "output_type": "stream",
          "name": "stderr",
          "text": [
            "\n"
          ]
        }
      ]
    },
    {
      "cell_type": "markdown",
      "source": [
        "Παρατηρούμε ότι για τον κάθε operator η εκτέλεση του prediction παίρνει την ίδια ώρα και αποδίδει το ίδιο accuracy."
      ],
      "metadata": {
        "id": "fZZsSOZGq7WK"
      },
      "id": "fZZsSOZGq7WK"
    }
  ],
  "metadata": {
    "kernelspec": {
      "display_name": "Python 3",
      "language": "python",
      "name": "python3"
    },
    "language_info": {
      "codemirror_mode": {
        "name": "ipython",
        "version": 3
      },
      "file_extension": ".py",
      "mimetype": "text/x-python",
      "name": "python",
      "nbconvert_exporter": "python",
      "pygments_lexer": "ipython3",
      "version": "3.8.8"
    },
    "colab": {
      "provenance": [],
      "toc_visible": true
    },
    "widgets": {
      "application/vnd.jupyter.widget-state+json": {
        "d69178724c5642708c67d896aa8c78d1": {
          "model_module": "@jupyter-widgets/controls",
          "model_name": "HBoxModel",
          "model_module_version": "1.5.0",
          "state": {
            "_dom_classes": [],
            "_model_module": "@jupyter-widgets/controls",
            "_model_module_version": "1.5.0",
            "_model_name": "HBoxModel",
            "_view_count": null,
            "_view_module": "@jupyter-widgets/controls",
            "_view_module_version": "1.5.0",
            "_view_name": "HBoxView",
            "box_style": "",
            "children": [
              "IPY_MODEL_ca426499a4254c35808f1cdd9356437f",
              "IPY_MODEL_923b7821f5d24054a978a5eb648479d6",
              "IPY_MODEL_a663f9a2bcd64f3f97bec90d13ccbf75"
            ],
            "layout": "IPY_MODEL_fd9e4bc60d84440dbabbf509a059dfd5"
          }
        },
        "ca426499a4254c35808f1cdd9356437f": {
          "model_module": "@jupyter-widgets/controls",
          "model_name": "HTMLModel",
          "model_module_version": "1.5.0",
          "state": {
            "_dom_classes": [],
            "_model_module": "@jupyter-widgets/controls",
            "_model_module_version": "1.5.0",
            "_model_name": "HTMLModel",
            "_view_count": null,
            "_view_module": "@jupyter-widgets/controls",
            "_view_module_version": "1.5.0",
            "_view_name": "HTMLView",
            "description": "",
            "description_tooltip": null,
            "layout": "IPY_MODEL_efbf0f5001314fa3b74542b10bd0caee",
            "placeholder": "​",
            "style": "IPY_MODEL_4ac0f4034a6247fca8b683d81ff41e87",
            "value": "Computing transition probabilities: 100%"
          }
        },
        "923b7821f5d24054a978a5eb648479d6": {
          "model_module": "@jupyter-widgets/controls",
          "model_name": "FloatProgressModel",
          "model_module_version": "1.5.0",
          "state": {
            "_dom_classes": [],
            "_model_module": "@jupyter-widgets/controls",
            "_model_module_version": "1.5.0",
            "_model_name": "FloatProgressModel",
            "_view_count": null,
            "_view_module": "@jupyter-widgets/controls",
            "_view_module_version": "1.5.0",
            "_view_name": "ProgressView",
            "bar_style": "success",
            "description": "",
            "description_tooltip": null,
            "layout": "IPY_MODEL_1baceb22da1b4dd4a64ca131a2d9c3a7",
            "max": 430,
            "min": 0,
            "orientation": "horizontal",
            "style": "IPY_MODEL_16b05a68d3fd41b59c5e5c3a22af84ed",
            "value": 430
          }
        },
        "a663f9a2bcd64f3f97bec90d13ccbf75": {
          "model_module": "@jupyter-widgets/controls",
          "model_name": "HTMLModel",
          "model_module_version": "1.5.0",
          "state": {
            "_dom_classes": [],
            "_model_module": "@jupyter-widgets/controls",
            "_model_module_version": "1.5.0",
            "_model_name": "HTMLModel",
            "_view_count": null,
            "_view_module": "@jupyter-widgets/controls",
            "_view_module_version": "1.5.0",
            "_view_name": "HTMLView",
            "description": "",
            "description_tooltip": null,
            "layout": "IPY_MODEL_e7bf3cfa4a5e487c98c6a776d8548fdb",
            "placeholder": "​",
            "style": "IPY_MODEL_c359191535e445b7b707940f4647ffdf",
            "value": " 430/430 [00:00&lt;00:00, 10041.15it/s]"
          }
        },
        "fd9e4bc60d84440dbabbf509a059dfd5": {
          "model_module": "@jupyter-widgets/base",
          "model_name": "LayoutModel",
          "model_module_version": "1.2.0",
          "state": {
            "_model_module": "@jupyter-widgets/base",
            "_model_module_version": "1.2.0",
            "_model_name": "LayoutModel",
            "_view_count": null,
            "_view_module": "@jupyter-widgets/base",
            "_view_module_version": "1.2.0",
            "_view_name": "LayoutView",
            "align_content": null,
            "align_items": null,
            "align_self": null,
            "border": null,
            "bottom": null,
            "display": null,
            "flex": null,
            "flex_flow": null,
            "grid_area": null,
            "grid_auto_columns": null,
            "grid_auto_flow": null,
            "grid_auto_rows": null,
            "grid_column": null,
            "grid_gap": null,
            "grid_row": null,
            "grid_template_areas": null,
            "grid_template_columns": null,
            "grid_template_rows": null,
            "height": null,
            "justify_content": null,
            "justify_items": null,
            "left": null,
            "margin": null,
            "max_height": null,
            "max_width": null,
            "min_height": null,
            "min_width": null,
            "object_fit": null,
            "object_position": null,
            "order": null,
            "overflow": null,
            "overflow_x": null,
            "overflow_y": null,
            "padding": null,
            "right": null,
            "top": null,
            "visibility": null,
            "width": null
          }
        },
        "efbf0f5001314fa3b74542b10bd0caee": {
          "model_module": "@jupyter-widgets/base",
          "model_name": "LayoutModel",
          "model_module_version": "1.2.0",
          "state": {
            "_model_module": "@jupyter-widgets/base",
            "_model_module_version": "1.2.0",
            "_model_name": "LayoutModel",
            "_view_count": null,
            "_view_module": "@jupyter-widgets/base",
            "_view_module_version": "1.2.0",
            "_view_name": "LayoutView",
            "align_content": null,
            "align_items": null,
            "align_self": null,
            "border": null,
            "bottom": null,
            "display": null,
            "flex": null,
            "flex_flow": null,
            "grid_area": null,
            "grid_auto_columns": null,
            "grid_auto_flow": null,
            "grid_auto_rows": null,
            "grid_column": null,
            "grid_gap": null,
            "grid_row": null,
            "grid_template_areas": null,
            "grid_template_columns": null,
            "grid_template_rows": null,
            "height": null,
            "justify_content": null,
            "justify_items": null,
            "left": null,
            "margin": null,
            "max_height": null,
            "max_width": null,
            "min_height": null,
            "min_width": null,
            "object_fit": null,
            "object_position": null,
            "order": null,
            "overflow": null,
            "overflow_x": null,
            "overflow_y": null,
            "padding": null,
            "right": null,
            "top": null,
            "visibility": null,
            "width": null
          }
        },
        "4ac0f4034a6247fca8b683d81ff41e87": {
          "model_module": "@jupyter-widgets/controls",
          "model_name": "DescriptionStyleModel",
          "model_module_version": "1.5.0",
          "state": {
            "_model_module": "@jupyter-widgets/controls",
            "_model_module_version": "1.5.0",
            "_model_name": "DescriptionStyleModel",
            "_view_count": null,
            "_view_module": "@jupyter-widgets/base",
            "_view_module_version": "1.2.0",
            "_view_name": "StyleView",
            "description_width": ""
          }
        },
        "1baceb22da1b4dd4a64ca131a2d9c3a7": {
          "model_module": "@jupyter-widgets/base",
          "model_name": "LayoutModel",
          "model_module_version": "1.2.0",
          "state": {
            "_model_module": "@jupyter-widgets/base",
            "_model_module_version": "1.2.0",
            "_model_name": "LayoutModel",
            "_view_count": null,
            "_view_module": "@jupyter-widgets/base",
            "_view_module_version": "1.2.0",
            "_view_name": "LayoutView",
            "align_content": null,
            "align_items": null,
            "align_self": null,
            "border": null,
            "bottom": null,
            "display": null,
            "flex": null,
            "flex_flow": null,
            "grid_area": null,
            "grid_auto_columns": null,
            "grid_auto_flow": null,
            "grid_auto_rows": null,
            "grid_column": null,
            "grid_gap": null,
            "grid_row": null,
            "grid_template_areas": null,
            "grid_template_columns": null,
            "grid_template_rows": null,
            "height": null,
            "justify_content": null,
            "justify_items": null,
            "left": null,
            "margin": null,
            "max_height": null,
            "max_width": null,
            "min_height": null,
            "min_width": null,
            "object_fit": null,
            "object_position": null,
            "order": null,
            "overflow": null,
            "overflow_x": null,
            "overflow_y": null,
            "padding": null,
            "right": null,
            "top": null,
            "visibility": null,
            "width": null
          }
        },
        "16b05a68d3fd41b59c5e5c3a22af84ed": {
          "model_module": "@jupyter-widgets/controls",
          "model_name": "ProgressStyleModel",
          "model_module_version": "1.5.0",
          "state": {
            "_model_module": "@jupyter-widgets/controls",
            "_model_module_version": "1.5.0",
            "_model_name": "ProgressStyleModel",
            "_view_count": null,
            "_view_module": "@jupyter-widgets/base",
            "_view_module_version": "1.2.0",
            "_view_name": "StyleView",
            "bar_color": null,
            "description_width": ""
          }
        },
        "e7bf3cfa4a5e487c98c6a776d8548fdb": {
          "model_module": "@jupyter-widgets/base",
          "model_name": "LayoutModel",
          "model_module_version": "1.2.0",
          "state": {
            "_model_module": "@jupyter-widgets/base",
            "_model_module_version": "1.2.0",
            "_model_name": "LayoutModel",
            "_view_count": null,
            "_view_module": "@jupyter-widgets/base",
            "_view_module_version": "1.2.0",
            "_view_name": "LayoutView",
            "align_content": null,
            "align_items": null,
            "align_self": null,
            "border": null,
            "bottom": null,
            "display": null,
            "flex": null,
            "flex_flow": null,
            "grid_area": null,
            "grid_auto_columns": null,
            "grid_auto_flow": null,
            "grid_auto_rows": null,
            "grid_column": null,
            "grid_gap": null,
            "grid_row": null,
            "grid_template_areas": null,
            "grid_template_columns": null,
            "grid_template_rows": null,
            "height": null,
            "justify_content": null,
            "justify_items": null,
            "left": null,
            "margin": null,
            "max_height": null,
            "max_width": null,
            "min_height": null,
            "min_width": null,
            "object_fit": null,
            "object_position": null,
            "order": null,
            "overflow": null,
            "overflow_x": null,
            "overflow_y": null,
            "padding": null,
            "right": null,
            "top": null,
            "visibility": null,
            "width": null
          }
        },
        "c359191535e445b7b707940f4647ffdf": {
          "model_module": "@jupyter-widgets/controls",
          "model_name": "DescriptionStyleModel",
          "model_module_version": "1.5.0",
          "state": {
            "_model_module": "@jupyter-widgets/controls",
            "_model_module_version": "1.5.0",
            "_model_name": "DescriptionStyleModel",
            "_view_count": null,
            "_view_module": "@jupyter-widgets/base",
            "_view_module_version": "1.2.0",
            "_view_name": "StyleView",
            "description_width": ""
          }
        }
      }
    }
  },
  "nbformat": 4,
  "nbformat_minor": 5
}